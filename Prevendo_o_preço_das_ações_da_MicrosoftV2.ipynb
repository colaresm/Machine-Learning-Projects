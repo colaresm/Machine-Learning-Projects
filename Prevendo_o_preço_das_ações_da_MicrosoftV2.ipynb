{
  "nbformat": 4,
  "nbformat_minor": 0,
  "metadata": {
    "colab": {
      "name": "Prevendo o preço das ações da Microsoft.ipynb",
      "provenance": [],
      "collapsed_sections": [],
      "authorship_tag": "ABX9TyPnAkzzO/64jpYYeP4YlpV1",
      "include_colab_link": true
    },
    "kernelspec": {
      "name": "python3",
      "display_name": "Python 3"
    },
    "language_info": {
      "name": "python"
    }
  },
  "cells": [
    {
      "cell_type": "markdown",
      "metadata": {
        "id": "view-in-github",
        "colab_type": "text"
      },
      "source": [
        "<a href=\"https://colab.research.google.com/github/colaresm/Machine-Learning-Projects/blob/main/Prevendo_o_pre%C3%A7o_das_a%C3%A7%C3%B5es_da_MicrosoftV2.ipynb\" target=\"_parent\"><img src=\"https://colab.research.google.com/assets/colab-badge.svg\" alt=\"Open In Colab\"/></a>"
      ]
    },
    {
      "cell_type": "code",
      "metadata": {
        "id": "ppCsweN9nMR6"
      },
      "source": [
        "import pandas as pd\n",
        "import numpy as np\n",
        "import matplotlib.pylab as plt\n",
        "from datetime import datetime\n",
        "from statsmodels.tsa.seasonal import seasonal_decompose\n",
        "import seaborn as sns\n",
        "import warnings\n",
        "from statsmodels.tsa.arima_model import ARIMA"
      ],
      "execution_count": 1,
      "outputs": []
    },
    {
      "cell_type": "markdown",
      "metadata": {
        "id": "g-I71W9-oacs"
      },
      "source": [
        "# Leitura dos dados"
      ]
    },
    {
      "cell_type": "code",
      "metadata": {
        "id": "0O0a7reCoev-"
      },
      "source": [
        "path='/content/Microsoft_Stock.csv'\n",
        "dataset = pd.read_csv(path)"
      ],
      "execution_count": 99,
      "outputs": []
    },
    {
      "cell_type": "code",
      "metadata": {
        "id": "TSIaCfQnVAs2"
      },
      "source": [
        "ym=dataset['Close']"
      ],
      "execution_count": 100,
      "outputs": []
    },
    {
      "cell_type": "code",
      "metadata": {
        "colab": {
          "base_uri": "https://localhost:8080/",
          "height": 206
        },
        "id": "YkW1FcNtowDH",
        "outputId": "04ed7c03-5c70-473e-90c8-9cff03d91e2a"
      },
      "source": [
        "dataset.head()"
      ],
      "execution_count": 101,
      "outputs": [
        {
          "output_type": "execute_result",
          "data": {
            "text/html": [
              "<div>\n",
              "<style scoped>\n",
              "    .dataframe tbody tr th:only-of-type {\n",
              "        vertical-align: middle;\n",
              "    }\n",
              "\n",
              "    .dataframe tbody tr th {\n",
              "        vertical-align: top;\n",
              "    }\n",
              "\n",
              "    .dataframe thead th {\n",
              "        text-align: right;\n",
              "    }\n",
              "</style>\n",
              "<table border=\"1\" class=\"dataframe\">\n",
              "  <thead>\n",
              "    <tr style=\"text-align: right;\">\n",
              "      <th></th>\n",
              "      <th>Date</th>\n",
              "      <th>Open</th>\n",
              "      <th>High</th>\n",
              "      <th>Low</th>\n",
              "      <th>Close</th>\n",
              "      <th>Volume</th>\n",
              "    </tr>\n",
              "  </thead>\n",
              "  <tbody>\n",
              "    <tr>\n",
              "      <th>0</th>\n",
              "      <td>4/1/2015 16:00:00</td>\n",
              "      <td>40.60</td>\n",
              "      <td>40.76</td>\n",
              "      <td>40.31</td>\n",
              "      <td>40.72</td>\n",
              "      <td>36865322</td>\n",
              "    </tr>\n",
              "    <tr>\n",
              "      <th>1</th>\n",
              "      <td>4/2/2015 16:00:00</td>\n",
              "      <td>40.66</td>\n",
              "      <td>40.74</td>\n",
              "      <td>40.12</td>\n",
              "      <td>40.29</td>\n",
              "      <td>37487476</td>\n",
              "    </tr>\n",
              "    <tr>\n",
              "      <th>2</th>\n",
              "      <td>4/6/2015 16:00:00</td>\n",
              "      <td>40.34</td>\n",
              "      <td>41.78</td>\n",
              "      <td>40.18</td>\n",
              "      <td>41.55</td>\n",
              "      <td>39223692</td>\n",
              "    </tr>\n",
              "    <tr>\n",
              "      <th>3</th>\n",
              "      <td>4/7/2015 16:00:00</td>\n",
              "      <td>41.61</td>\n",
              "      <td>41.91</td>\n",
              "      <td>41.31</td>\n",
              "      <td>41.53</td>\n",
              "      <td>28809375</td>\n",
              "    </tr>\n",
              "    <tr>\n",
              "      <th>4</th>\n",
              "      <td>4/8/2015 16:00:00</td>\n",
              "      <td>41.48</td>\n",
              "      <td>41.69</td>\n",
              "      <td>41.04</td>\n",
              "      <td>41.42</td>\n",
              "      <td>24753438</td>\n",
              "    </tr>\n",
              "  </tbody>\n",
              "</table>\n",
              "</div>"
            ],
            "text/plain": [
              "                Date   Open   High    Low  Close    Volume\n",
              "0  4/1/2015 16:00:00  40.60  40.76  40.31  40.72  36865322\n",
              "1  4/2/2015 16:00:00  40.66  40.74  40.12  40.29  37487476\n",
              "2  4/6/2015 16:00:00  40.34  41.78  40.18  41.55  39223692\n",
              "3  4/7/2015 16:00:00  41.61  41.91  41.31  41.53  28809375\n",
              "4  4/8/2015 16:00:00  41.48  41.69  41.04  41.42  24753438"
            ]
          },
          "metadata": {},
          "execution_count": 101
        }
      ]
    },
    {
      "cell_type": "code",
      "metadata": {
        "colab": {
          "base_uri": "https://localhost:8080/"
        },
        "id": "HF9KlKKZB0sS",
        "outputId": "aa1a0372-45e0-4bdc-88ec-f952b7de9eba"
      },
      "source": [
        "dateparse = lambda dates: pd.datetime.strptime(dates, '%m/%d/%Y %H:%M:%S')\n",
        "dataset = pd.read_csv(path, parse_dates = ['Date'], index_col = 'Date', date_parser = dateparse)"
      ],
      "execution_count": 102,
      "outputs": [
        {
          "output_type": "stream",
          "name": "stderr",
          "text": [
            "/usr/local/lib/python3.7/dist-packages/ipykernel_launcher.py:1: FutureWarning: The pandas.datetime class is deprecated and will be removed from pandas in a future version. Import from datetime module instead.\n",
            "  \"\"\"Entry point for launching an IPython kernel.\n"
          ]
        }
      ]
    },
    {
      "cell_type": "code",
      "metadata": {
        "id": "4hbKAuhhU8hA"
      },
      "source": [
        "y=dataset['Close']"
      ],
      "execution_count": 103,
      "outputs": []
    },
    {
      "cell_type": "code",
      "metadata": {
        "colab": {
          "base_uri": "https://localhost:8080/",
          "height": 282
        },
        "id": "OjslvmbEhFhs",
        "outputId": "917193c2-fd37-42f8-a10b-d7146507febe"
      },
      "source": [
        "plt.plot(y)"
      ],
      "execution_count": 73,
      "outputs": [
        {
          "output_type": "execute_result",
          "data": {
            "text/plain": [
              "[<matplotlib.lines.Line2D at 0x7efc5ab5cd90>]"
            ]
          },
          "metadata": {},
          "execution_count": 73
        },
        {
          "output_type": "display_data",
          "data": {
            "image/png": "[encoded data removed]",
            "text/plain": [
              "<Figure size 432x288 with 1 Axes>"
            ]
          },
          "metadata": {
            "needs_background": "light"
          }
        }
      ]
    },
    {
      "cell_type": "markdown",
      "metadata": {
        "id": "Q0aVbvcSgLC7"
      },
      "source": [
        "# Componentes da série temporal\n",
        "\n",
        "Uma série temporal possui 3 componentes:\n",
        "\n",
        "\n",
        "*   X(t)- O valor médio da série.\n",
        "*   T(t)- Tendência\n",
        "*   S(t)- Sazonal(periódica)\n",
        "*   N(t)- Ruído(parte aleatória)\n",
        "<br>\n",
        "Assim uma série temporal $X(t)$ pode ser decomposta de da seguinte forma aditiva:\n",
        "$$ Y(t)= X(t)+T(t)+S(t)+N(t)$$\n"
      ]
    },
    {
      "cell_type": "code",
      "metadata": {
        "id": "LJGco_UtiD7Q"
      },
      "source": [
        "result = seasonal_decompose(y,period=31)\n",
        "tendencia = result.trend\n",
        "sazonal = result.seasonal\n",
        "aleatorio = result.resid"
      ],
      "execution_count": 84,
      "outputs": []
    },
    {
      "cell_type": "code",
      "metadata": {
        "id": "_SH7BsLzpE4l",
        "colab": {
          "base_uri": "https://localhost:8080/",
          "height": 407
        },
        "outputId": "62ce22e0-7b50-429b-c252-9afd2893f6a8"
      },
      "source": [
        "fig, axs = plt.subplots(3, sharex=True, sharey=True,figsize=(10,6))\n",
        "#fig.suptitle('Componentes da Série')\n",
        "axs[0].plot(result.trend,color='b')\n",
        "axs[0].set_title(\"Tendência\")\n",
        "axs[1].plot(result.seasonal,color='b')\n",
        "axs[1].set_title(\"Periódica\")\n",
        "axs[2].plot(result.resid,color='b')\n",
        "axs[2].set_title(\"Resíduo\")"
      ],
      "execution_count": 85,
      "outputs": [
        {
          "output_type": "execute_result",
          "data": {
            "text/plain": [
              "Text(0.5, 1.0, 'Resíduo')"
            ]
          },
          "metadata": {},
          "execution_count": 85
        },
        {
          "output_type": "display_data",
          "data": {
            "image/png": "[encoded data removed]",
            "text/plain": [
              "<Figure size 720x432 with 3 Axes>"
            ]
          },
          "metadata": {
            "needs_background": "light"
          }
        }
      ]
    },
    {
      "cell_type": "code",
      "metadata": {
        "colab": {
          "base_uri": "https://localhost:8080/",
          "height": 368
        },
        "id": "2l8rJcOYiW3G",
        "outputId": "37cb33e5-e883-496f-faf9-703986726c92"
      },
      "source": [
        "sns.distplot(result.resid,color='b')\n",
        "print('Média:',np.mean(result.resid))\n",
        "print('Desvio padrão:',np.std(result.resid))"
      ],
      "execution_count": 86,
      "outputs": [
        {
          "output_type": "stream",
          "name": "stderr",
          "text": [
            "/usr/local/lib/python3.7/dist-packages/seaborn/distributions.py:2619: FutureWarning: `distplot` is a deprecated function and will be removed in a future version. Please adapt your code to use either `displot` (a figure-level function with similar flexibility) or `histplot` (an axes-level function for histograms).\n",
            "  warnings.warn(msg, FutureWarning)\n"
          ]
        },
        {
          "output_type": "stream",
          "name": "stdout",
          "text": [
            "Média: 0.0017974959594422059\n",
            "Desvio padrão: 3.098032188563041\n"
          ]
        },
        {
          "output_type": "display_data",
          "data": {
            "image/png": "[encoded data removed]",
            "text/plain": [
              "<Figure size 432x288 with 1 Axes>"
            ]
          },
          "metadata": {
            "needs_background": "light"
          }
        }
      ]
    },
    {
      "cell_type": "markdown",
      "metadata": {
        "id": "zw4hgWTPkjk-"
      },
      "source": [
        "# Médias móveis\n",
        "\n",
        "As médias móveis são uma forma de observar tendências de forma mais clara. Aqui utilizaremos a média móvel simples."
      ]
    },
    {
      "cell_type": "code",
      "metadata": {
        "id": "MXmb2uHski9R"
      },
      "source": [
        "def mediamovel(dados,janela):\n",
        "  numbers = dados\n",
        "  window_size = janela\n",
        "  numbers_series = pd.Series(numbers)\n",
        "  windows = numbers_series.rolling(window_size)\n",
        "  moving_averages = windows.mean()\n",
        "  moving_averages_list = moving_averages.tolist()\n",
        "  without_nans = moving_averages_list[window_size - 1:]\n",
        "  return np.round(without_nans,4)"
      ],
      "execution_count": 87,
      "outputs": []
    },
    {
      "cell_type": "code",
      "metadata": {
        "colab": {
          "base_uri": "https://localhost:8080/",
          "height": 391
        },
        "id": "Kx7OiN8IlwV8",
        "outputId": "70ffc6cc-5b35-4afa-ea6a-83c34f50a3e5"
      },
      "source": [
        "plt.figure(figsize=(10,6))\n",
        "plt.plot(ym,label='Série original')\n",
        "plt.plot(mediamovel(np.array(ym),100),label='Média móvel de 100 períodos')\n",
        "plt.plot(mediamovel(np.array(ym),200),label='Média móvel de 200 períodos')\n",
        "plt.legend()"
      ],
      "execution_count": 106,
      "outputs": [
        {
          "output_type": "execute_result",
          "data": {
            "text/plain": [
              "<matplotlib.legend.Legend at 0x7efc5911d350>"
            ]
          },
          "metadata": {},
          "execution_count": 106
        },
        {
          "output_type": "display_data",
          "data": {
            "image/png": "[encoded data removed]",
            "text/plain": [
              "<Figure size 720x432 with 1 Axes>"
            ]
          },
          "metadata": {
            "needs_background": "light"
          }
        }
      ]
    },
    {
      "cell_type": "markdown",
      "metadata": {
        "id": "rKWqim68mspq"
      },
      "source": [
        "# Modelo ARIMA\n"
      ]
    },
    {
      "cell_type": "code",
      "metadata": {
        "colab": {
          "base_uri": "https://localhost:8080/"
        },
        "id": "TQg69v4N1FI5",
        "outputId": "ea98aefa-685c-4909-ed17-a90206959239"
      },
      "source": [
        "!pip install pmdarima"
      ],
      "execution_count": 107,
      "outputs": [
        {
          "output_type": "stream",
          "name": "stdout",
          "text": [
            "Requirement already satisfied: pmdarima in /usr/local/lib/python3.7/dist-packages (1.8.3)\n",
            "Requirement already satisfied: pandas>=0.19 in /usr/local/lib/python3.7/dist-packages (from pmdarima) (1.1.5)\n",
            "Requirement already satisfied: scikit-learn>=0.22 in /usr/local/lib/python3.7/dist-packages (from pmdarima) (0.22.2.post1)\n",
            "Requirement already satisfied: statsmodels!=0.12.0,>=0.11 in /usr/local/lib/python3.7/dist-packages (from pmdarima) (0.13.0)\n",
            "Requirement already satisfied: joblib>=0.11 in /usr/local/lib/python3.7/dist-packages (from pmdarima) (1.0.1)\n",
            "Requirement already satisfied: urllib3 in /usr/local/lib/python3.7/dist-packages (from pmdarima) (1.24.3)\n",
            "Requirement already satisfied: setuptools!=50.0.0,>=38.6.0 in /usr/local/lib/python3.7/dist-packages (from pmdarima) (57.4.0)\n",
            "Requirement already satisfied: Cython!=0.29.18,>=0.29 in /usr/local/lib/python3.7/dist-packages (from pmdarima) (0.29.24)\n",
            "Requirement already satisfied: numpy>=1.19.3 in /usr/local/lib/python3.7/dist-packages (from pmdarima) (1.19.5)\n",
            "Requirement already satisfied: scipy>=1.3.2 in /usr/local/lib/python3.7/dist-packages (from pmdarima) (1.4.1)\n",
            "Requirement already satisfied: pytz>=2017.2 in /usr/local/lib/python3.7/dist-packages (from pandas>=0.19->pmdarima) (2018.9)\n",
            "Requirement already satisfied: python-dateutil>=2.7.3 in /usr/local/lib/python3.7/dist-packages (from pandas>=0.19->pmdarima) (2.8.2)\n",
            "Requirement already satisfied: six>=1.5 in /usr/local/lib/python3.7/dist-packages (from python-dateutil>=2.7.3->pandas>=0.19->pmdarima) (1.15.0)\n",
            "Requirement already satisfied: patsy>=0.5.2 in /usr/local/lib/python3.7/dist-packages (from statsmodels!=0.12.0,>=0.11->pmdarima) (0.5.2)\n"
          ]
        }
      ]
    },
    {
      "cell_type": "code",
      "metadata": {
        "id": "hB50Lq211LjQ"
      },
      "source": [
        "from pmdarima.arima import auto_arima"
      ],
      "execution_count": 108,
      "outputs": []
    },
    {
      "cell_type": "code",
      "metadata": {
        "id": "NOeEXL2r0rRu"
      },
      "source": [
        "# Parâmetors P, Q e D\n",
        "model = auto_arima(y)"
      ],
      "execution_count": 109,
      "outputs": []
    },
    {
      "cell_type": "code",
      "metadata": {
        "colab": {
          "base_uri": "https://localhost:8080/"
        },
        "id": "t8qgso3s10Cl",
        "outputId": "6f6881c7-9a77-4a22-9be6-8bf03942102f"
      },
      "source": [
        "model.order"
      ],
      "execution_count": 110,
      "outputs": [
        {
          "output_type": "execute_result",
          "data": {
            "text/plain": [
              "(1, 1, 0)"
            ]
          },
          "metadata": {},
          "execution_count": 110
        }
      ]
    },
    {
      "cell_type": "code",
      "metadata": {
        "id": "qYL_Qclb14H1"
      },
      "source": [
        "predictions = model.predict(n_periods=14)"
      ],
      "execution_count": 150,
      "outputs": []
    },
    {
      "cell_type": "code",
      "metadata": {
        "colab": {
          "base_uri": "https://localhost:8080/"
        },
        "id": "gCuaoiBr2fzG",
        "outputId": "b302c2c9-ada2-43f7-e3ff-601b01d9e1d8"
      },
      "source": [
        "train = y[:len(y)-14]\n",
        "train.shape"
      ],
      "execution_count": 151,
      "outputs": [
        {
          "output_type": "execute_result",
          "data": {
            "text/plain": [
              "(1497,)"
            ]
          },
          "metadata": {},
          "execution_count": 151
        }
      ]
    },
    {
      "cell_type": "code",
      "metadata": {
        "colab": {
          "base_uri": "https://localhost:8080/"
        },
        "id": "tTiVvC9AbEE-",
        "outputId": "ed1fd33d-6bca-41ea-de40-afea104ef2e6"
      },
      "source": [
        "train.index.min(), train.index.max()"
      ],
      "execution_count": 152,
      "outputs": [
        {
          "output_type": "execute_result",
          "data": {
            "text/plain": [
              "(Timestamp('2015-04-01 16:00:00'), Timestamp('2021-03-11 16:00:00'))"
            ]
          },
          "metadata": {},
          "execution_count": 152
        }
      ]
    },
    {
      "cell_type": "code",
      "metadata": {
        "colab": {
          "base_uri": "https://localhost:8080/"
        },
        "id": "ilAYOKCY2tBu",
        "outputId": "d9928897-0b48-4478-9758-b1913db5f3cd"
      },
      "source": [
        "test = y[len(y)-14:]\n",
        "test.shape"
      ],
      "execution_count": 153,
      "outputs": [
        {
          "output_type": "execute_result",
          "data": {
            "text/plain": [
              "(14,)"
            ]
          },
          "metadata": {},
          "execution_count": 153
        }
      ]
    },
    {
      "cell_type": "code",
      "metadata": {
        "colab": {
          "base_uri": "https://localhost:8080/"
        },
        "id": "I-QKEHZRbGwh",
        "outputId": "0d7d1093-7fdd-4686-c4a1-5bbd6b3eea16"
      },
      "source": [
        "test.index.min(), test.index.max()"
      ],
      "execution_count": 154,
      "outputs": [
        {
          "output_type": "execute_result",
          "data": {
            "text/plain": [
              "(Timestamp('2021-03-12 16:00:00'), Timestamp('2021-03-31 16:00:00'))"
            ]
          },
          "metadata": {},
          "execution_count": 154
        }
      ]
    },
    {
      "cell_type": "code",
      "metadata": {
        "id": "V-x0tuvJmrmm"
      },
      "source": [
        "model2 = auto_arima(train, suppress_warnings=True)"
      ],
      "execution_count": 155,
      "outputs": []
    },
    {
      "cell_type": "code",
      "metadata": {
        "colab": {
          "base_uri": "https://localhost:8080/",
          "height": 520
        },
        "id": "WPIR-68V3OpN",
        "outputId": "4d5b03b0-53a6-4c84-c760-500de58fbfa2"
      },
      "source": [
        "prediction = pd.DataFrame(model2.predict(n_periods=14), index=test.index)\n",
        "\n",
        "prediction.columns = ['passengers_predictions']\n",
        "prediction"
      ],
      "execution_count": 157,
      "outputs": [
        {
          "output_type": "execute_result",
          "data": {
            "text/html": [
              "<div>\n",
              "<style scoped>\n",
              "    .dataframe tbody tr th:only-of-type {\n",
              "        vertical-align: middle;\n",
              "    }\n",
              "\n",
              "    .dataframe tbody tr th {\n",
              "        vertical-align: top;\n",
              "    }\n",
              "\n",
              "    .dataframe thead th {\n",
              "        text-align: right;\n",
              "    }\n",
              "</style>\n",
              "<table border=\"1\" class=\"dataframe\">\n",
              "  <thead>\n",
              "    <tr style=\"text-align: right;\">\n",
              "      <th></th>\n",
              "      <th>passengers_predictions</th>\n",
              "    </tr>\n",
              "    <tr>\n",
              "      <th>Date</th>\n",
              "      <th></th>\n",
              "    </tr>\n",
              "  </thead>\n",
              "  <tbody>\n",
              "    <tr>\n",
              "      <th>2021-03-12 16:00:00</th>\n",
              "      <td>236.249551</td>\n",
              "    </tr>\n",
              "    <tr>\n",
              "      <th>2021-03-15 16:00:00</th>\n",
              "      <td>236.218264</td>\n",
              "    </tr>\n",
              "    <tr>\n",
              "      <th>2021-03-16 16:00:00</th>\n",
              "      <td>237.115458</td>\n",
              "    </tr>\n",
              "    <tr>\n",
              "      <th>2021-03-17 16:00:00</th>\n",
              "      <td>236.105150</td>\n",
              "    </tr>\n",
              "    <tr>\n",
              "      <th>2021-03-18 16:00:00</th>\n",
              "      <td>237.568767</td>\n",
              "    </tr>\n",
              "    <tr>\n",
              "      <th>2021-03-19 16:00:00</th>\n",
              "      <td>236.354535</td>\n",
              "    </tr>\n",
              "    <tr>\n",
              "      <th>2021-03-22 16:00:00</th>\n",
              "      <td>237.675600</td>\n",
              "    </tr>\n",
              "    <tr>\n",
              "      <th>2021-03-23 16:00:00</th>\n",
              "      <td>236.908450</td>\n",
              "    </tr>\n",
              "    <tr>\n",
              "      <th>2021-03-24 16:00:00</th>\n",
              "      <td>237.551570</td>\n",
              "    </tr>\n",
              "    <tr>\n",
              "      <th>2021-03-25 16:00:00</th>\n",
              "      <td>237.596164</td>\n",
              "    </tr>\n",
              "    <tr>\n",
              "      <th>2021-03-26 16:00:00</th>\n",
              "      <td>237.401438</td>\n",
              "    </tr>\n",
              "    <tr>\n",
              "      <th>2021-03-29 16:00:00</th>\n",
              "      <td>238.205407</td>\n",
              "    </tr>\n",
              "    <tr>\n",
              "      <th>2021-03-30 16:00:00</th>\n",
              "      <td>237.418571</td>\n",
              "    </tr>\n",
              "    <tr>\n",
              "      <th>2021-03-31 16:00:00</th>\n",
              "      <td>238.584357</td>\n",
              "    </tr>\n",
              "  </tbody>\n",
              "</table>\n",
              "</div>"
            ],
            "text/plain": [
              "                     passengers_predictions\n",
              "Date                                       \n",
              "2021-03-12 16:00:00              236.249551\n",
              "2021-03-15 16:00:00              236.218264\n",
              "2021-03-16 16:00:00              237.115458\n",
              "2021-03-17 16:00:00              236.105150\n",
              "2021-03-18 16:00:00              237.568767\n",
              "2021-03-19 16:00:00              236.354535\n",
              "2021-03-22 16:00:00              237.675600\n",
              "2021-03-23 16:00:00              236.908450\n",
              "2021-03-24 16:00:00              237.551570\n",
              "2021-03-25 16:00:00              237.596164\n",
              "2021-03-26 16:00:00              237.401438\n",
              "2021-03-29 16:00:00              238.205407\n",
              "2021-03-30 16:00:00              237.418571\n",
              "2021-03-31 16:00:00              238.584357"
            ]
          },
          "metadata": {},
          "execution_count": 157
        }
      ]
    },
    {
      "cell_type": "code",
      "metadata": {
        "colab": {
          "base_uri": "https://localhost:8080/",
          "height": 320
        },
        "id": "-uJ19Rt-3Id8",
        "outputId": "9fedd6da-cf42-4876-999d-c765e667d357"
      },
      "source": [
        "plt.figure(figsize=(8,5))\n",
        "\n",
        "plt.plot(test, label = 'Test')\n",
        "plt.plot(prediction, label = 'Predictions')\n",
        "plt.legend();"
      ],
      "execution_count": 158,
      "outputs": [
        {
          "output_type": "display_data",
          "data": {
            "image/png": "[encoded data removed]",
            "text/plain": [
              "<Figure size 576x360 with 1 Axes>"
            ]
          },
          "metadata": {
            "needs_background": "light"
          }
        }
      ]
    }
  ]
}