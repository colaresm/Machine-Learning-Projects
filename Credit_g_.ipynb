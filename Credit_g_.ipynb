{
  "nbformat": 4,
  "nbformat_minor": 0,
  "metadata": {
    "colab": {
      "name": " Credit g .ipynb",
      "provenance": [],
      "collapsed_sections": [],
      "toc_visible": true,
      "authorship_tag": "ABX9TyMjuiFvZ8VS+1X2WAbYsPTL",
      "include_colab_link": true
    },
    "kernelspec": {
      "name": "python3",
      "display_name": "Python 3"
    },
    "language_info": {
      "name": "python"
    }
  },
  "cells": [
    {
      "cell_type": "markdown",
      "metadata": {
        "id": "view-in-github",
        "colab_type": "text"
      },
      "source": [
        "<a href=\"https://colab.research.google.com/github/colaresm/Machine-Learning-Projects/blob/main/Credit_g_.ipynb\" target=\"_parent\"><img src=\"https://colab.research.google.com/assets/colab-badge.svg\" alt=\"Open In Colab\"/></a>"
      ]
    },
    {
      "cell_type": "code",
      "metadata": {
        "id": "aR0lsKo2Kcg2"
      },
      "source": [
        "import matplotlib.pyplot as plt\n",
        "import pandas as pd\n",
        "import numpy as np\n",
        "import seaborn as sns"
      ],
      "execution_count": 12,
      "outputs": []
    },
    {
      "cell_type": "code",
      "metadata": {
        "id": "_8c74Cw8Lj-c"
      },
      "source": [
        "df = pd.read_csv('/content/credit-g_csv.csv')"
      ],
      "execution_count": 19,
      "outputs": []
    },
    {
      "cell_type": "markdown",
      "metadata": {
        "id": "fj22vk_DpH0x"
      },
      "source": [
        "Attribute description\n",
        "\n",
        "[Dataset link](https://datahub.io/machine-learning/credit-g#data)\n",
        "\n",
        "    Status of existing checking account, in Deutsche Mark.\n",
        "    Duration in months\n",
        "    Credit history (credits taken, paid back duly, delays, critical accounts)\n",
        "    Purpose of the credit (car, television,…)\n",
        "    Credit amount\n",
        "    Status of savings account/bonds, in Deutsche Mark.\n",
        "    Present employment, in number of years.\n",
        "    Installment rate in percentage of disposable income\n",
        "    Personal status (married, single,…) and sex\n",
        "    Other debtors / guarantors\n",
        "    Present residence since X years\n",
        "    Property (e.g. real estate)\n",
        "    Age in years\n",
        "    Other installment plans (banks, stores)\n",
        "    Housing (rent, own,…)\n",
        "    Number of existing credits at this bank\n",
        "    Job\n",
        "    Number of people being liable to provide maintenance for\n",
        "    Telephone (yes,no)\n",
        "    Foreign worker (yes,no)\n"
      ]
    },
    {
      "cell_type": "markdown",
      "metadata": {
        "id": "XJy5lgLsMK3m"
      },
      "source": [
        "# Visualização dos dados"
      ]
    },
    {
      "cell_type": "code",
      "metadata": {
        "colab": {
          "base_uri": "https://localhost:8080/",
          "height": 296
        },
        "id": "zkdkpVANMJ15",
        "outputId": "0f22ec8d-c37b-4878-8ceb-3424a742bb93"
      },
      "source": [
        "df.head()"
      ],
      "execution_count": 20,
      "outputs": [
        {
          "output_type": "execute_result",
          "data": {
            "text/html": [
              "<div>\n",
              "<style scoped>\n",
              "    .dataframe tbody tr th:only-of-type {\n",
              "        vertical-align: middle;\n",
              "    }\n",
              "\n",
              "    .dataframe tbody tr th {\n",
              "        vertical-align: top;\n",
              "    }\n",
              "\n",
              "    .dataframe thead th {\n",
              "        text-align: right;\n",
              "    }\n",
              "</style>\n",
              "<table border=\"1\" class=\"dataframe\">\n",
              "  <thead>\n",
              "    <tr style=\"text-align: right;\">\n",
              "      <th></th>\n",
              "      <th>checking_status</th>\n",
              "      <th>duration</th>\n",
              "      <th>credit_history</th>\n",
              "      <th>purpose</th>\n",
              "      <th>credit_amount</th>\n",
              "      <th>savings_status</th>\n",
              "      <th>employment</th>\n",
              "      <th>installment_commitment</th>\n",
              "      <th>personal_status</th>\n",
              "      <th>other_parties</th>\n",
              "      <th>residence_since</th>\n",
              "      <th>property_magnitude</th>\n",
              "      <th>age</th>\n",
              "      <th>other_payment_plans</th>\n",
              "      <th>housing</th>\n",
              "      <th>existing_credits</th>\n",
              "      <th>job</th>\n",
              "      <th>num_dependents</th>\n",
              "      <th>own_telephone</th>\n",
              "      <th>foreign_worker</th>\n",
              "      <th>class</th>\n",
              "    </tr>\n",
              "  </thead>\n",
              "  <tbody>\n",
              "    <tr>\n",
              "      <th>0</th>\n",
              "      <td>&lt;0</td>\n",
              "      <td>6</td>\n",
              "      <td>critical/other existing credit</td>\n",
              "      <td>radio/tv</td>\n",
              "      <td>1169</td>\n",
              "      <td>no known savings</td>\n",
              "      <td>&gt;=7</td>\n",
              "      <td>4</td>\n",
              "      <td>male single</td>\n",
              "      <td>none</td>\n",
              "      <td>4</td>\n",
              "      <td>real estate</td>\n",
              "      <td>67</td>\n",
              "      <td>none</td>\n",
              "      <td>own</td>\n",
              "      <td>2</td>\n",
              "      <td>skilled</td>\n",
              "      <td>1</td>\n",
              "      <td>yes</td>\n",
              "      <td>yes</td>\n",
              "      <td>good</td>\n",
              "    </tr>\n",
              "    <tr>\n",
              "      <th>1</th>\n",
              "      <td>0&lt;=X&lt;200</td>\n",
              "      <td>48</td>\n",
              "      <td>existing paid</td>\n",
              "      <td>radio/tv</td>\n",
              "      <td>5951</td>\n",
              "      <td>&lt;100</td>\n",
              "      <td>1&lt;=X&lt;4</td>\n",
              "      <td>2</td>\n",
              "      <td>female div/dep/mar</td>\n",
              "      <td>none</td>\n",
              "      <td>2</td>\n",
              "      <td>real estate</td>\n",
              "      <td>22</td>\n",
              "      <td>none</td>\n",
              "      <td>own</td>\n",
              "      <td>1</td>\n",
              "      <td>skilled</td>\n",
              "      <td>1</td>\n",
              "      <td>none</td>\n",
              "      <td>yes</td>\n",
              "      <td>bad</td>\n",
              "    </tr>\n",
              "    <tr>\n",
              "      <th>2</th>\n",
              "      <td>no checking</td>\n",
              "      <td>12</td>\n",
              "      <td>critical/other existing credit</td>\n",
              "      <td>education</td>\n",
              "      <td>2096</td>\n",
              "      <td>&lt;100</td>\n",
              "      <td>4&lt;=X&lt;7</td>\n",
              "      <td>2</td>\n",
              "      <td>male single</td>\n",
              "      <td>none</td>\n",
              "      <td>3</td>\n",
              "      <td>real estate</td>\n",
              "      <td>49</td>\n",
              "      <td>none</td>\n",
              "      <td>own</td>\n",
              "      <td>1</td>\n",
              "      <td>unskilled resident</td>\n",
              "      <td>2</td>\n",
              "      <td>none</td>\n",
              "      <td>yes</td>\n",
              "      <td>good</td>\n",
              "    </tr>\n",
              "    <tr>\n",
              "      <th>3</th>\n",
              "      <td>&lt;0</td>\n",
              "      <td>42</td>\n",
              "      <td>existing paid</td>\n",
              "      <td>furniture/equipment</td>\n",
              "      <td>7882</td>\n",
              "      <td>&lt;100</td>\n",
              "      <td>4&lt;=X&lt;7</td>\n",
              "      <td>2</td>\n",
              "      <td>male single</td>\n",
              "      <td>guarantor</td>\n",
              "      <td>4</td>\n",
              "      <td>life insurance</td>\n",
              "      <td>45</td>\n",
              "      <td>none</td>\n",
              "      <td>for free</td>\n",
              "      <td>1</td>\n",
              "      <td>skilled</td>\n",
              "      <td>2</td>\n",
              "      <td>none</td>\n",
              "      <td>yes</td>\n",
              "      <td>good</td>\n",
              "    </tr>\n",
              "    <tr>\n",
              "      <th>4</th>\n",
              "      <td>&lt;0</td>\n",
              "      <td>24</td>\n",
              "      <td>delayed previously</td>\n",
              "      <td>new car</td>\n",
              "      <td>4870</td>\n",
              "      <td>&lt;100</td>\n",
              "      <td>1&lt;=X&lt;4</td>\n",
              "      <td>3</td>\n",
              "      <td>male single</td>\n",
              "      <td>none</td>\n",
              "      <td>4</td>\n",
              "      <td>no known property</td>\n",
              "      <td>53</td>\n",
              "      <td>none</td>\n",
              "      <td>for free</td>\n",
              "      <td>2</td>\n",
              "      <td>skilled</td>\n",
              "      <td>2</td>\n",
              "      <td>none</td>\n",
              "      <td>yes</td>\n",
              "      <td>bad</td>\n",
              "    </tr>\n",
              "  </tbody>\n",
              "</table>\n",
              "</div>"
            ],
            "text/plain": [
              "  checking_status  duration  ... foreign_worker class\n",
              "0              <0         6  ...            yes  good\n",
              "1        0<=X<200        48  ...            yes   bad\n",
              "2     no checking        12  ...            yes  good\n",
              "3              <0        42  ...            yes  good\n",
              "4              <0        24  ...            yes   bad\n",
              "\n",
              "[5 rows x 21 columns]"
            ]
          },
          "metadata": {},
          "execution_count": 20
        }
      ]
    },
    {
      "cell_type": "code",
      "metadata": {
        "colab": {
          "base_uri": "https://localhost:8080/",
          "height": 353
        },
        "id": "qc01DuBKM0cG",
        "outputId": "8d143397-309f-4e63-a2e3-273a0b9ac075"
      },
      "source": [
        "sns.distplot(df['age'])\n",
        "plt.xlabel('Age')"
      ],
      "execution_count": 22,
      "outputs": [
        {
          "output_type": "stream",
          "name": "stderr",
          "text": [
            "/usr/local/lib/python3.7/dist-packages/seaborn/distributions.py:2557: FutureWarning: `distplot` is a deprecated function and will be removed in a future version. Please adapt your code to use either `displot` (a figure-level function with similar flexibility) or `histplot` (an axes-level function for histograms).\n",
            "  warnings.warn(msg, FutureWarning)\n"
          ]
        },
        {
          "output_type": "execute_result",
          "data": {
            "text/plain": [
              "Text(0.5, 0, 'Age')"
            ]
          },
          "metadata": {},
          "execution_count": 22
        },
        {
          "output_type": "display_data",
          "data": {
            "image/png": "[encoded data removed]",
            "text/plain": [
              "<Figure size 432x288 with 1 Axes>"
            ]
          },
          "metadata": {
            "needs_background": "light"
          }
        }
      ]
    },
    {
      "cell_type": "code",
      "metadata": {
        "colab": {
          "base_uri": "https://localhost:8080/",
          "height": 351
        },
        "id": "vcohsQoLWUZo",
        "outputId": "a5173eaa-3055-4dbc-c59a-2dcff4e55ec5"
      },
      "source": [
        "sns.distplot(df['duration'])\n",
        "plt.xlabel('duration')"
      ],
      "execution_count": 27,
      "outputs": [
        {
          "output_type": "stream",
          "name": "stderr",
          "text": [
            "/usr/local/lib/python3.7/dist-packages/seaborn/distributions.py:2557: FutureWarning: `distplot` is a deprecated function and will be removed in a future version. Please adapt your code to use either `displot` (a figure-level function with similar flexibility) or `histplot` (an axes-level function for histograms).\n",
            "  warnings.warn(msg, FutureWarning)\n"
          ]
        },
        {
          "output_type": "execute_result",
          "data": {
            "text/plain": [
              "Text(0.5, 0, 'duration')"
            ]
          },
          "metadata": {},
          "execution_count": 27
        },
        {
          "output_type": "display_data",
          "data": {
            "image/png": "[encoded data removed]",
            "text/plain": [
              "<Figure size 432x288 with 1 Axes>"
            ]
          },
          "metadata": {
            "needs_background": "light"
          }
        }
      ]
    },
    {
      "cell_type": "code",
      "metadata": {
        "colab": {
          "base_uri": "https://localhost:8080/",
          "height": 352
        },
        "id": "ihvZ-d6yWh5L",
        "outputId": "e66cdb9b-ef09-4b4f-ba3a-828d3e504fd2"
      },
      "source": [
        "sns.distplot(df['credit_amount'])\n",
        "plt.xlabel('credit_amount')"
      ],
      "execution_count": 29,
      "outputs": [
        {
          "output_type": "stream",
          "name": "stderr",
          "text": [
            "/usr/local/lib/python3.7/dist-packages/seaborn/distributions.py:2557: FutureWarning: `distplot` is a deprecated function and will be removed in a future version. Please adapt your code to use either `displot` (a figure-level function with similar flexibility) or `histplot` (an axes-level function for histograms).\n",
            "  warnings.warn(msg, FutureWarning)\n"
          ]
        },
        {
          "output_type": "execute_result",
          "data": {
            "text/plain": [
              "Text(0.5, 0, 'credit_amount')"
            ]
          },
          "metadata": {},
          "execution_count": 29
        },
        {
          "output_type": "display_data",
          "data": {
            "image/png": "[encoded data removed]",
            "text/plain": [
              "<Figure size 432x288 with 1 Axes>"
            ]
          },
          "metadata": {
            "needs_background": "light"
          }
        }
      ]
    },
    {
      "cell_type": "code",
      "metadata": {
        "colab": {
          "base_uri": "https://localhost:8080/",
          "height": 297
        },
        "id": "1jCmYAgoNXgI",
        "outputId": "6f47056c-c21c-49b0-daaf-fdf43d892945"
      },
      "source": [
        "sns.countplot(x=\"checking_status\", data=df)"
      ],
      "execution_count": 28,
      "outputs": [
        {
          "output_type": "execute_result",
          "data": {
            "text/plain": [
              "<matplotlib.axes._subplots.AxesSubplot at 0x7f72428c9650>"
            ]
          },
          "metadata": {},
          "execution_count": 28
        },
        {
          "output_type": "display_data",
          "data": {
            "image/png": "[encoded data removed]",
            "text/plain": [
              "<Figure size 432x288 with 1 Axes>"
            ]
          },
          "metadata": {
            "needs_background": "light"
          }
        }
      ]
    },
    {
      "cell_type": "code",
      "metadata": {
        "colab": {
          "base_uri": "https://localhost:8080/",
          "height": 296
        },
        "id": "2WonlSoGM0tC",
        "outputId": "e19a8ae9-4bc0-4974-aff5-9953b10138b5"
      },
      "source": [
        "sns.countplot(x=\"purpose\", data=df)"
      ],
      "execution_count": 44,
      "outputs": [
        {
          "output_type": "execute_result",
          "data": {
            "text/plain": [
              "<matplotlib.axes._subplots.AxesSubplot at 0x7f724278c6d0>"
            ]
          },
          "metadata": {},
          "execution_count": 44
        },
        {
          "output_type": "display_data",
          "data": {
            "image/png": "[encoded data removed]",
            "text/plain": [
              "<Figure size 432x288 with 1 Axes>"
            ]
          },
          "metadata": {
            "needs_background": "light"
          }
        }
      ]
    },
    {
      "cell_type": "code",
      "metadata": {
        "colab": {
          "base_uri": "https://localhost:8080/",
          "height": 378
        },
        "id": "jhV0g9FSnJTL",
        "outputId": "54a7d1ab-9520-4d4d-bfb0-289feece641c"
      },
      "source": [
        "sns.countplot(x=\"class\", data=df)"
      ],
      "execution_count": 203,
      "outputs": [
        {
          "output_type": "execute_result",
          "data": {
            "text/plain": [
              "<matplotlib.axes._subplots.AxesSubplot at 0x7f723568cb50>"
            ]
          },
          "metadata": {},
          "execution_count": 203
        },
        {
          "output_type": "display_data",
          "data": {
            "image/png": "[encoded data removed]",
            "text/plain": [
              "<Figure size 576x396 with 1 Axes>"
            ]
          },
          "metadata": {}
        }
      ]
    },
    {
      "cell_type": "markdown",
      "metadata": {
        "id": "amiFOTNMXO8q"
      },
      "source": [
        "# Pré-Processamento"
      ]
    },
    {
      "cell_type": "markdown",
      "metadata": {
        "id": "gy5o34SLoON_"
      },
      "source": [
        "## Separação dos dados"
      ]
    },
    {
      "cell_type": "code",
      "metadata": {
        "colab": {
          "base_uri": "https://localhost:8080/"
        },
        "id": "yh0a7u-tX0Ax",
        "outputId": "685db2f6-bb70-43cd-b353-5cfd6986a5b8"
      },
      "source": [
        "X = df.iloc[:, 0:-1].values\n",
        "X[0]"
      ],
      "execution_count": 181,
      "outputs": [
        {
          "output_type": "execute_result",
          "data": {
            "text/plain": [
              "array(['<0', 6, 'critical/other existing credit', 'radio/tv', 1169,\n",
              "       'no known savings', '>=7', 4, 'male single', 'none', 4,\n",
              "       'real estate', 67, 'none', 'own', 2, 'skilled', 1, 'yes', 'yes'],\n",
              "      dtype=object)"
            ]
          },
          "metadata": {},
          "execution_count": 181
        }
      ]
    },
    {
      "cell_type": "code",
      "metadata": {
        "colab": {
          "base_uri": "https://localhost:8080/",
          "height": 35
        },
        "id": "aoaWnT0KXtgF",
        "outputId": "3125c006-4be8-498d-80b9-529dfb26182b"
      },
      "source": [
        "y=df.iloc[:,-1].values\n",
        "y[0]"
      ],
      "execution_count": 182,
      "outputs": [
        {
          "output_type": "execute_result",
          "data": {
            "application/vnd.google.colaboratory.intrinsic+json": {
              "type": "string"
            },
            "text/plain": [
              "'good'"
            ]
          },
          "metadata": {},
          "execution_count": 182
        }
      ]
    },
    {
      "cell_type": "markdown",
      "metadata": {
        "id": "mjWLeJhkoT9c"
      },
      "source": [
        "## Label encode"
      ]
    },
    {
      "cell_type": "code",
      "metadata": {
        "id": "k_NAA0_hXTbY"
      },
      "source": [
        "from sklearn.preprocessing import LabelEncoder"
      ],
      "execution_count": 183,
      "outputs": []
    },
    {
      "cell_type": "code",
      "metadata": {
        "id": "MvUPcOJIY2oI"
      },
      "source": [
        "label_encoder = LabelEncoder()"
      ],
      "execution_count": 184,
      "outputs": []
    },
    {
      "cell_type": "code",
      "metadata": {
        "colab": {
          "base_uri": "https://localhost:8080/"
        },
        "id": "l5_0EHSxZMaA",
        "outputId": "77128321-74c3-439e-a8e5-cabf714ef4e1"
      },
      "source": [
        "X[:,0] = label_encoder.fit_transform(X[:,0])\n",
        "X[:,2] = label_encoder.fit_transform(X[:,2])\n",
        "X[:,3] = label_encoder.fit_transform(X[:,3])\n",
        "X[:,5] = label_encoder.fit_transform(X[:,5])\n",
        "X[:,6] = label_encoder.fit_transform(X[:,6])\n",
        "X[:,7] = label_encoder.fit_transform(X[:,7])\n",
        "X[:,8] = label_encoder.fit_transform(X[:,8])\n",
        "X[:,9] = label_encoder.fit_transform(X[:,9])\n",
        "X[:,10] = label_encoder.fit_transform(X[:,10])\n",
        "X[:,11] = label_encoder.fit_transform(X[:,11])\n",
        "X[:,13] = label_encoder.fit_transform(X[:,13])\n",
        "X[:,14] = label_encoder.fit_transform(X[:,14])\n",
        "X[:,15] = label_encoder.fit_transform(X[:,15])\n",
        "X[:,16] = label_encoder.fit_transform(X[:,16])\n",
        "X[:,17] = label_encoder.fit_transform(X[:,17])\n",
        "X[:,18] = label_encoder.fit_transform(X[:,18])\n",
        "X[:,19] = label_encoder.fit_transform(X[:,19])\n",
        "X[0]"
      ],
      "execution_count": 185,
      "outputs": [
        {
          "output_type": "execute_result",
          "data": {
            "text/plain": [
              "array([1, 6, 1, 6, 1169, 4, 3, 3, 3, 2, 3, 3, 67, 1, 1, 1, 1, 0, 1, 1],\n",
              "      dtype=object)"
            ]
          },
          "metadata": {},
          "execution_count": 185
        }
      ]
    },
    {
      "cell_type": "code",
      "metadata": {
        "id": "FP5EvO9qhjdd"
      },
      "source": [
        "X[:,1] = (X[:,1]-min(X[:,1]))/  (max(X[:,1])-min(X[:,1])         )       \n",
        "X[:,4] = (X[:,4]-min(X[:,4]))/  (  max(X[:,4])-min(X[:,4])         )  \n",
        "X[:,12] = (X[:,12]-min(X[:,12]))/  (  max(X[:,12])-min(X[:,12])         )          "
      ],
      "execution_count": 186,
      "outputs": []
    },
    {
      "cell_type": "code",
      "metadata": {
        "id": "qC8010k7ftOr"
      },
      "source": [
        "from sklearn.preprocessing import OneHotEncoder\n",
        "from sklearn.compose import ColumnTransformer"
      ],
      "execution_count": 187,
      "outputs": []
    },
    {
      "cell_type": "code",
      "metadata": {
        "id": "J-AnoCVwfxW-"
      },
      "source": [
        "onehotencoder = ColumnTransformer(transformers=[('OneHot', OneHotEncoder(), [0,2,3,5,6,7,8,9,10,11,13,14,15,16,17,18,19])], remainder='passthrough')"
      ],
      "execution_count": 188,
      "outputs": []
    },
    {
      "cell_type": "code",
      "metadata": {
        "id": "UTI4QAD2fzvO"
      },
      "source": [
        "X = onehotencoder.fit_transform(X).toarray()"
      ],
      "execution_count": 189,
      "outputs": []
    },
    {
      "cell_type": "code",
      "metadata": {
        "colab": {
          "base_uri": "https://localhost:8080/"
        },
        "id": "BSrOSrHybSdm",
        "outputId": "c6b2c465-2406-473a-d580-ac1da75652f5"
      },
      "source": [
        "X[0]"
      ],
      "execution_count": 190,
      "outputs": [
        {
          "output_type": "execute_result",
          "data": {
            "text/plain": [
              "array([0.        , 1.        , 0.        , 0.        , 0.        ,\n",
              "       1.        , 0.        , 0.        , 0.        , 0.        ,\n",
              "       0.        , 0.        , 0.        , 0.        , 0.        ,\n",
              "       1.        , 0.        , 0.        , 0.        , 0.        ,\n",
              "       0.        , 0.        , 0.        , 1.        , 0.        ,\n",
              "       0.        , 0.        , 1.        , 0.        , 0.        ,\n",
              "       0.        , 0.        , 1.        , 0.        , 0.        ,\n",
              "       0.        , 1.        , 0.        , 0.        , 1.        ,\n",
              "       0.        , 0.        , 0.        , 1.        , 0.        ,\n",
              "       0.        , 0.        , 1.        , 0.        , 1.        ,\n",
              "       0.        , 0.        , 1.        , 0.        , 0.        ,\n",
              "       1.        , 0.        , 0.        , 0.        , 1.        ,\n",
              "       0.        , 0.        , 1.        , 0.        , 0.        ,\n",
              "       1.        , 0.        , 1.        , 0.02941176, 0.05056674,\n",
              "       0.85714286])"
            ]
          },
          "metadata": {},
          "execution_count": 190
        }
      ]
    },
    {
      "cell_type": "code",
      "metadata": {
        "colab": {
          "base_uri": "https://localhost:8080/"
        },
        "id": "bHWKHZ9BdFjH",
        "outputId": "0ecc4ad8-f1a3-43cf-af3d-dd292e32af3c"
      },
      "source": [
        "y = label_encoder.fit_transform(y)\n",
        "y[0]"
      ],
      "execution_count": 191,
      "outputs": [
        {
          "output_type": "execute_result",
          "data": {
            "text/plain": [
              "1"
            ]
          },
          "metadata": {},
          "execution_count": 191
        }
      ]
    },
    {
      "cell_type": "markdown",
      "metadata": {
        "id": "G8Eqhd-7ocyn"
      },
      "source": [
        "## Rebalanceamento das classes"
      ]
    },
    {
      "cell_type": "code",
      "metadata": {
        "colab": {
          "base_uri": "https://localhost:8080/"
        },
        "id": "_V0bocRjof3a",
        "outputId": "f47d1ad9-64e6-4277-9075-616ae468525f"
      },
      "source": [
        "!pip install imblearn"
      ],
      "execution_count": 204,
      "outputs": [
        {
          "output_type": "stream",
          "name": "stdout",
          "text": [
            "Requirement already satisfied: imblearn in /usr/local/lib/python3.7/dist-packages (0.0)\n",
            "Requirement already satisfied: imbalanced-learn in /usr/local/lib/python3.7/dist-packages (from imblearn) (0.4.3)\n",
            "Requirement already satisfied: scipy>=0.13.3 in /usr/local/lib/python3.7/dist-packages (from imbalanced-learn->imblearn) (1.4.1)\n",
            "Requirement already satisfied: scikit-learn>=0.20 in /usr/local/lib/python3.7/dist-packages (from imbalanced-learn->imblearn) (0.22.2.post1)\n",
            "Requirement already satisfied: numpy>=1.8.2 in /usr/local/lib/python3.7/dist-packages (from imbalanced-learn->imblearn) (1.19.5)\n",
            "Requirement already satisfied: joblib>=0.11 in /usr/local/lib/python3.7/dist-packages (from scikit-learn>=0.20->imbalanced-learn->imblearn) (1.0.1)\n"
          ]
        }
      ]
    },
    {
      "cell_type": "code",
      "metadata": {
        "colab": {
          "base_uri": "https://localhost:8080/"
        },
        "id": "7zEVPXCZojKT",
        "outputId": "14775a9c-c7bb-4d42-a098-c0d01cb4266a"
      },
      "source": [
        "from imblearn.over_sampling import SMOTE"
      ],
      "execution_count": 206,
      "outputs": [
        {
          "output_type": "stream",
          "name": "stderr",
          "text": [
            "/usr/local/lib/python3.7/dist-packages/sklearn/externals/six.py:31: FutureWarning: The module is deprecated in version 0.21 and will be removed in version 0.23 since we've dropped support for Python 2.7. Please rely on the official version of six (https://pypi.org/project/six/).\n",
            "  \"(https://pypi.org/project/six/).\", FutureWarning)\n",
            "/usr/local/lib/python3.7/dist-packages/sklearn/utils/deprecation.py:144: FutureWarning: The sklearn.neighbors.base module is  deprecated in version 0.22 and will be removed in version 0.24. The corresponding classes / functions should instead be imported from sklearn.neighbors. Anything that cannot be imported from sklearn.neighbors is now part of the private API.\n",
            "  warnings.warn(message, FutureWarning)\n"
          ]
        }
      ]
    },
    {
      "cell_type": "code",
      "metadata": {
        "id": "SwjSifL8om2m"
      },
      "source": [
        "smt = SMOTE()"
      ],
      "execution_count": 207,
      "outputs": []
    },
    {
      "cell_type": "code",
      "metadata": {
        "colab": {
          "base_uri": "https://localhost:8080/"
        },
        "id": "W3oTmiG4onoa",
        "outputId": "a697936b-2aa5-444f-9930-137fa4d2526a"
      },
      "source": [
        "X, y = smt.fit_sample(X, y)"
      ],
      "execution_count": 208,
      "outputs": [
        {
          "output_type": "stream",
          "name": "stderr",
          "text": [
            "/usr/local/lib/python3.7/dist-packages/sklearn/utils/deprecation.py:87: FutureWarning: Function safe_indexing is deprecated; safe_indexing is deprecated in version 0.22 and will be removed in version 0.24.\n",
            "  warnings.warn(msg, category=FutureWarning)\n"
          ]
        }
      ]
    },
    {
      "cell_type": "code",
      "metadata": {
        "colab": {
          "base_uri": "https://localhost:8080/",
          "height": 347
        },
        "id": "mrxpv1qGoua0",
        "outputId": "17628266-926d-46fe-ae12-47a194528d27"
      },
      "source": [
        "ax = sns.countplot(x=y)"
      ],
      "execution_count": 209,
      "outputs": [
        {
          "output_type": "display_data",
          "data": {
            "image/png": "[encoded data removed]",
            "text/plain": [
              "<Figure size 576x396 with 1 Axes>"
            ]
          },
          "metadata": {}
        }
      ]
    },
    {
      "cell_type": "markdown",
      "metadata": {
        "id": "CUV9p2FKdZ1A"
      },
      "source": [
        "# Treinamento da rede neural"
      ]
    },
    {
      "cell_type": "code",
      "metadata": {
        "id": "H182reyNdV9X"
      },
      "source": [
        "from sklearn.neural_network import MLPClassifier"
      ],
      "execution_count": 210,
      "outputs": []
    },
    {
      "cell_type": "code",
      "metadata": {
        "id": "nVbXDDWsdwBg"
      },
      "source": [
        "from sklearn.model_selection import train_test_split\n",
        "X_train, X_test, y_train, y_test = train_test_split(X, y, test_size=0.2, random_state=42)"
      ],
      "execution_count": 211,
      "outputs": []
    },
    {
      "cell_type": "code",
      "metadata": {
        "colab": {
          "base_uri": "https://localhost:8080/"
        },
        "id": "JGiqmw9sdmbF",
        "outputId": "f8c26bee-e7da-4943-d318-6abc2b1e1bfa"
      },
      "source": [
        "rede_neural = MLPClassifier(max_iter=1500, verbose=True, tol=0.0000100,\n",
        "                                   solver = 'adam', activation = 'relu',\n",
        "                                   hidden_layer_sizes = (20,20))\n",
        "rede_neural.fit(X_train, y_train)"
      ],
      "execution_count": 212,
      "outputs": [
        {
          "output_type": "stream",
          "name": "stdout",
          "text": [
            "Iteration 1, loss = 0.70372768\n",
            "Iteration 2, loss = 0.68726438\n",
            "Iteration 3, loss = 0.67533744\n",
            "Iteration 4, loss = 0.66585009\n",
            "Iteration 5, loss = 0.65639046\n",
            "Iteration 6, loss = 0.64670627\n",
            "Iteration 7, loss = 0.63543249\n",
            "Iteration 8, loss = 0.62393604\n",
            "Iteration 9, loss = 0.61114090\n",
            "Iteration 10, loss = 0.59858448\n",
            "Iteration 11, loss = 0.58528684\n",
            "Iteration 12, loss = 0.57139898\n",
            "Iteration 13, loss = 0.55867278\n",
            "Iteration 14, loss = 0.54553849\n",
            "Iteration 15, loss = 0.53273704\n",
            "Iteration 16, loss = 0.52254627\n",
            "Iteration 17, loss = 0.51190875\n",
            "Iteration 18, loss = 0.50343308\n",
            "Iteration 19, loss = 0.49425372\n",
            "Iteration 20, loss = 0.48780659\n",
            "Iteration 21, loss = 0.48145574\n",
            "Iteration 22, loss = 0.47418906\n",
            "Iteration 23, loss = 0.47045168\n",
            "Iteration 24, loss = 0.46353385\n",
            "Iteration 25, loss = 0.45880845\n",
            "Iteration 26, loss = 0.45401357\n",
            "Iteration 27, loss = 0.44956142\n",
            "Iteration 28, loss = 0.44491735\n",
            "Iteration 29, loss = 0.44074292\n",
            "Iteration 30, loss = 0.43748871\n",
            "Iteration 31, loss = 0.43257923\n",
            "Iteration 32, loss = 0.42876148\n",
            "Iteration 33, loss = 0.42484334\n",
            "Iteration 34, loss = 0.42121909\n",
            "Iteration 35, loss = 0.41688995\n",
            "Iteration 36, loss = 0.41397492\n",
            "Iteration 37, loss = 0.40880676\n",
            "Iteration 38, loss = 0.40592388\n",
            "Iteration 39, loss = 0.40171253\n",
            "Iteration 40, loss = 0.39873828\n",
            "Iteration 41, loss = 0.39548746\n",
            "Iteration 42, loss = 0.39090629\n",
            "Iteration 43, loss = 0.38885329\n",
            "Iteration 44, loss = 0.38568052\n",
            "Iteration 45, loss = 0.38094901\n",
            "Iteration 46, loss = 0.37859216\n",
            "Iteration 47, loss = 0.37346202\n",
            "Iteration 48, loss = 0.37013515\n",
            "Iteration 49, loss = 0.36694342\n",
            "Iteration 50, loss = 0.36289386\n",
            "Iteration 51, loss = 0.35979628\n",
            "Iteration 52, loss = 0.35572493\n",
            "Iteration 53, loss = 0.35293642\n",
            "Iteration 54, loss = 0.34892799\n",
            "Iteration 55, loss = 0.34587203\n",
            "Iteration 56, loss = 0.34224139\n",
            "Iteration 57, loss = 0.33970825\n",
            "Iteration 58, loss = 0.33529630\n",
            "Iteration 59, loss = 0.33275732\n",
            "Iteration 60, loss = 0.32903739\n",
            "Iteration 61, loss = 0.32621903\n",
            "Iteration 62, loss = 0.32150909\n",
            "Iteration 63, loss = 0.31903772\n",
            "Iteration 64, loss = 0.31524375\n",
            "Iteration 65, loss = 0.31185855\n",
            "Iteration 66, loss = 0.30892054\n",
            "Iteration 67, loss = 0.30488662\n",
            "Iteration 68, loss = 0.30127682\n",
            "Iteration 69, loss = 0.29768240\n",
            "Iteration 70, loss = 0.29463390\n",
            "Iteration 71, loss = 0.29131104\n",
            "Iteration 72, loss = 0.28766802\n",
            "Iteration 73, loss = 0.28392515\n",
            "Iteration 74, loss = 0.28046126\n",
            "Iteration 75, loss = 0.27738294\n",
            "Iteration 76, loss = 0.27381714\n",
            "Iteration 77, loss = 0.26994029\n",
            "Iteration 78, loss = 0.26715859\n",
            "Iteration 79, loss = 0.26432519\n",
            "Iteration 80, loss = 0.26032750\n",
            "Iteration 81, loss = 0.25657113\n",
            "Iteration 82, loss = 0.25616499\n",
            "Iteration 83, loss = 0.25076005\n",
            "Iteration 84, loss = 0.24681994\n",
            "Iteration 85, loss = 0.24510417\n",
            "Iteration 86, loss = 0.24039562\n",
            "Iteration 87, loss = 0.23714287\n",
            "Iteration 88, loss = 0.23434672\n",
            "Iteration 89, loss = 0.23077596\n",
            "Iteration 90, loss = 0.22792579\n",
            "Iteration 91, loss = 0.22524596\n",
            "Iteration 92, loss = 0.22289558\n",
            "Iteration 93, loss = 0.22118663\n",
            "Iteration 94, loss = 0.22197143\n",
            "Iteration 95, loss = 0.21829577\n",
            "Iteration 96, loss = 0.21271059\n",
            "Iteration 97, loss = 0.20866044\n",
            "Iteration 98, loss = 0.20470354\n",
            "Iteration 99, loss = 0.20430700\n",
            "Iteration 100, loss = 0.20550946\n",
            "Iteration 101, loss = 0.20041350\n",
            "Iteration 102, loss = 0.19470343\n",
            "Iteration 103, loss = 0.19194515\n",
            "Iteration 104, loss = 0.18843334\n",
            "Iteration 105, loss = 0.18725721\n",
            "Iteration 106, loss = 0.18298365\n",
            "Iteration 107, loss = 0.18194185\n",
            "Iteration 108, loss = 0.17931087\n",
            "Iteration 109, loss = 0.17583204\n",
            "Iteration 110, loss = 0.17356888\n",
            "Iteration 111, loss = 0.17079208\n",
            "Iteration 112, loss = 0.16809786\n",
            "Iteration 113, loss = 0.16688478\n",
            "Iteration 114, loss = 0.16338173\n",
            "Iteration 115, loss = 0.16212362\n",
            "Iteration 116, loss = 0.16099288\n",
            "Iteration 117, loss = 0.15841938\n",
            "Iteration 118, loss = 0.15420711\n",
            "Iteration 119, loss = 0.15299442\n",
            "Iteration 120, loss = 0.15033013\n",
            "Iteration 121, loss = 0.14801907\n",
            "Iteration 122, loss = 0.14577648\n",
            "Iteration 123, loss = 0.14402551\n",
            "Iteration 124, loss = 0.14310860\n",
            "Iteration 125, loss = 0.13967770\n",
            "Iteration 126, loss = 0.13844236\n",
            "Iteration 127, loss = 0.13788871\n",
            "Iteration 128, loss = 0.13633378\n",
            "Iteration 129, loss = 0.13278561\n",
            "Iteration 130, loss = 0.13074915\n",
            "Iteration 131, loss = 0.12882917\n",
            "Iteration 132, loss = 0.12689871\n",
            "Iteration 133, loss = 0.12552617\n",
            "Iteration 134, loss = 0.12354666\n",
            "Iteration 135, loss = 0.12191985\n",
            "Iteration 136, loss = 0.12050852\n",
            "Iteration 137, loss = 0.11895401\n",
            "Iteration 138, loss = 0.11793139\n",
            "Iteration 139, loss = 0.11644430\n",
            "Iteration 140, loss = 0.11523317\n",
            "Iteration 141, loss = 0.11470576\n",
            "Iteration 142, loss = 0.11248611\n",
            "Iteration 143, loss = 0.11110987\n",
            "Iteration 144, loss = 0.10971199\n",
            "Iteration 145, loss = 0.10730902\n",
            "Iteration 146, loss = 0.10589550\n",
            "Iteration 147, loss = 0.10371595\n",
            "Iteration 148, loss = 0.10195599\n",
            "Iteration 149, loss = 0.10048450\n",
            "Iteration 150, loss = 0.09981758\n",
            "Iteration 151, loss = 0.09986522\n",
            "Iteration 152, loss = 0.09968273\n",
            "Iteration 153, loss = 0.09687993\n",
            "Iteration 154, loss = 0.09479638\n",
            "Iteration 155, loss = 0.09269367\n",
            "Iteration 156, loss = 0.09109860\n",
            "Iteration 157, loss = 0.09011172\n",
            "Iteration 158, loss = 0.08877240\n",
            "Iteration 159, loss = 0.08746159\n",
            "Iteration 160, loss = 0.08604699\n",
            "Iteration 161, loss = 0.08514516\n",
            "Iteration 162, loss = 0.08405961\n",
            "Iteration 163, loss = 0.08376617\n",
            "Iteration 164, loss = 0.08285057\n",
            "Iteration 165, loss = 0.08043969\n",
            "Iteration 166, loss = 0.08007953\n",
            "Iteration 167, loss = 0.07899590\n",
            "Iteration 168, loss = 0.07856334\n",
            "Iteration 169, loss = 0.07704783\n",
            "Iteration 170, loss = 0.07504113\n",
            "Iteration 171, loss = 0.07354992\n",
            "Iteration 172, loss = 0.07274937\n",
            "Iteration 173, loss = 0.07120764\n",
            "Iteration 174, loss = 0.07032328\n",
            "Iteration 175, loss = 0.07022935\n",
            "Iteration 176, loss = 0.07244605\n",
            "Iteration 177, loss = 0.07004585\n",
            "Iteration 178, loss = 0.06906857\n",
            "Iteration 179, loss = 0.06841697\n",
            "Iteration 180, loss = 0.06477205\n",
            "Iteration 181, loss = 0.06360381\n",
            "Iteration 182, loss = 0.06243709\n",
            "Iteration 183, loss = 0.06220764\n",
            "Iteration 184, loss = 0.06066857\n",
            "Iteration 185, loss = 0.06021458\n",
            "Iteration 186, loss = 0.05971520\n",
            "Iteration 187, loss = 0.05891510\n",
            "Iteration 188, loss = 0.05798105\n",
            "Iteration 189, loss = 0.05679948\n",
            "Iteration 190, loss = 0.05578005\n",
            "Iteration 191, loss = 0.05556651\n",
            "Iteration 192, loss = 0.05403642\n",
            "Iteration 193, loss = 0.05313677\n",
            "Iteration 194, loss = 0.05324506\n",
            "Iteration 195, loss = 0.05226610\n",
            "Iteration 196, loss = 0.05118889\n",
            "Iteration 197, loss = 0.05042179\n",
            "Iteration 198, loss = 0.04943229\n",
            "Iteration 199, loss = 0.04885114\n",
            "Iteration 200, loss = 0.04835822\n",
            "Iteration 201, loss = 0.04776642\n",
            "Iteration 202, loss = 0.04667600\n",
            "Iteration 203, loss = 0.04630165\n",
            "Iteration 204, loss = 0.04578680\n",
            "Iteration 205, loss = 0.04586745\n",
            "Iteration 206, loss = 0.04490220\n",
            "Iteration 207, loss = 0.04409640\n",
            "Iteration 208, loss = 0.04319039\n",
            "Iteration 209, loss = 0.04256415\n",
            "Iteration 210, loss = 0.04212115\n",
            "Iteration 211, loss = 0.04120839\n",
            "Iteration 212, loss = 0.04075602\n",
            "Iteration 213, loss = 0.04039225\n",
            "Iteration 214, loss = 0.04018481\n",
            "Iteration 215, loss = 0.03948023\n",
            "Iteration 216, loss = 0.03967685\n",
            "Iteration 217, loss = 0.03996409\n",
            "Iteration 218, loss = 0.03863901\n",
            "Iteration 219, loss = 0.03778612\n",
            "Iteration 220, loss = 0.03677198\n",
            "Iteration 221, loss = 0.03631855\n",
            "Iteration 222, loss = 0.03565952\n",
            "Iteration 223, loss = 0.03522757\n",
            "Iteration 224, loss = 0.03482258\n",
            "Iteration 225, loss = 0.03415005\n",
            "Iteration 226, loss = 0.03413415\n",
            "Iteration 227, loss = 0.03331072\n",
            "Iteration 228, loss = 0.03289614\n",
            "Iteration 229, loss = 0.03268404\n",
            "Iteration 230, loss = 0.03215714\n",
            "Iteration 231, loss = 0.03158846\n",
            "Iteration 232, loss = 0.03132077\n",
            "Iteration 233, loss = 0.03089893\n",
            "Iteration 234, loss = 0.03067153\n",
            "Iteration 235, loss = 0.02998480\n",
            "Iteration 236, loss = 0.02975249\n",
            "Iteration 237, loss = 0.02938833\n",
            "Iteration 238, loss = 0.02915590\n",
            "Iteration 239, loss = 0.02867467\n",
            "Iteration 240, loss = 0.02816304\n",
            "Iteration 241, loss = 0.02785778\n",
            "Iteration 242, loss = 0.02753381\n",
            "Iteration 243, loss = 0.02721290\n",
            "Iteration 244, loss = 0.02693890\n",
            "Iteration 245, loss = 0.02642062\n",
            "Iteration 246, loss = 0.02604127\n",
            "Iteration 247, loss = 0.02578557\n",
            "Iteration 248, loss = 0.02546341\n",
            "Iteration 249, loss = 0.02514311\n",
            "Iteration 250, loss = 0.02484202\n",
            "Iteration 251, loss = 0.02451442\n",
            "Iteration 252, loss = 0.02422370\n",
            "Iteration 253, loss = 0.02394214\n",
            "Iteration 254, loss = 0.02374419\n",
            "Iteration 255, loss = 0.02330692\n",
            "Iteration 256, loss = 0.02305246\n",
            "Iteration 257, loss = 0.02294995\n",
            "Iteration 258, loss = 0.02256391\n",
            "Iteration 259, loss = 0.02217293\n",
            "Iteration 260, loss = 0.02215523\n",
            "Iteration 261, loss = 0.02189319\n",
            "Iteration 262, loss = 0.02133755\n",
            "Iteration 263, loss = 0.02114554\n",
            "Iteration 264, loss = 0.02077499\n",
            "Iteration 265, loss = 0.02060486\n",
            "Iteration 266, loss = 0.02038639\n",
            "Iteration 267, loss = 0.02011799\n",
            "Iteration 268, loss = 0.01987182\n",
            "Iteration 269, loss = 0.01984149\n",
            "Iteration 270, loss = 0.01985421\n",
            "Iteration 271, loss = 0.01908207\n",
            "Iteration 272, loss = 0.01892726\n",
            "Iteration 273, loss = 0.01872010\n",
            "Iteration 274, loss = 0.01843417\n",
            "Iteration 275, loss = 0.01836585\n",
            "Iteration 276, loss = 0.01817090\n",
            "Iteration 277, loss = 0.01785253\n",
            "Iteration 278, loss = 0.01764599\n",
            "Iteration 279, loss = 0.01737964\n",
            "Iteration 280, loss = 0.01717088\n",
            "Iteration 281, loss = 0.01698366\n",
            "Iteration 282, loss = 0.01696782\n",
            "Iteration 283, loss = 0.01661575\n",
            "Iteration 284, loss = 0.01650410\n",
            "Iteration 285, loss = 0.01621714\n",
            "Iteration 286, loss = 0.01606363\n",
            "Iteration 287, loss = 0.01592104\n",
            "Iteration 288, loss = 0.01567223\n",
            "Iteration 289, loss = 0.01560022\n",
            "Iteration 290, loss = 0.01542579\n",
            "Iteration 291, loss = 0.01524662\n",
            "Iteration 292, loss = 0.01506739\n",
            "Iteration 293, loss = 0.01488580\n",
            "Iteration 294, loss = 0.01485784\n",
            "Iteration 295, loss = 0.01455012\n",
            "Iteration 296, loss = 0.01432946\n",
            "Iteration 297, loss = 0.01424757\n",
            "Iteration 298, loss = 0.01396207\n",
            "Iteration 299, loss = 0.01389141\n",
            "Iteration 300, loss = 0.01369556\n",
            "Iteration 301, loss = 0.01349224\n",
            "Iteration 302, loss = 0.01349086\n",
            "Iteration 303, loss = 0.01328024\n",
            "Iteration 304, loss = 0.01308752\n",
            "Iteration 305, loss = 0.01294207\n",
            "Iteration 306, loss = 0.01288237\n",
            "Iteration 307, loss = 0.01265799\n",
            "Iteration 308, loss = 0.01246964\n",
            "Iteration 309, loss = 0.01246779\n",
            "Iteration 310, loss = 0.01236959\n",
            "Iteration 311, loss = 0.01218747\n",
            "Iteration 312, loss = 0.01199980\n",
            "Iteration 313, loss = 0.01181598\n",
            "Iteration 314, loss = 0.01168800\n",
            "Iteration 315, loss = 0.01154438\n",
            "Iteration 316, loss = 0.01144410\n",
            "Iteration 317, loss = 0.01131908\n",
            "Iteration 318, loss = 0.01111959\n",
            "Iteration 319, loss = 0.01105749\n",
            "Iteration 320, loss = 0.01089731\n",
            "Iteration 321, loss = 0.01080013\n",
            "Iteration 322, loss = 0.01068654\n",
            "Iteration 323, loss = 0.01055035\n",
            "Iteration 324, loss = 0.01051472\n",
            "Iteration 325, loss = 0.01038089\n",
            "Iteration 326, loss = 0.01029634\n",
            "Iteration 327, loss = 0.01028363\n",
            "Iteration 328, loss = 0.01012300\n",
            "Iteration 329, loss = 0.01003148\n",
            "Iteration 330, loss = 0.00984764\n",
            "Iteration 331, loss = 0.00980882\n",
            "Iteration 332, loss = 0.00982135\n",
            "Iteration 333, loss = 0.00961565\n",
            "Iteration 334, loss = 0.00948996\n",
            "Iteration 335, loss = 0.00935957\n",
            "Iteration 336, loss = 0.00928920\n",
            "Iteration 337, loss = 0.00918779\n",
            "Iteration 338, loss = 0.00916580\n",
            "Iteration 339, loss = 0.00915285\n",
            "Iteration 340, loss = 0.00890889\n",
            "Iteration 341, loss = 0.00880653\n",
            "Iteration 342, loss = 0.00876352\n",
            "Iteration 343, loss = 0.00868531\n",
            "Iteration 344, loss = 0.00865711\n",
            "Iteration 345, loss = 0.00856943\n",
            "Iteration 346, loss = 0.00839938\n",
            "Iteration 347, loss = 0.00831197\n",
            "Iteration 348, loss = 0.00829499\n",
            "Iteration 349, loss = 0.00818767\n",
            "Iteration 350, loss = 0.00806604\n",
            "Iteration 351, loss = 0.00799956\n",
            "Iteration 352, loss = 0.00799607\n",
            "Iteration 353, loss = 0.00794078\n",
            "Iteration 354, loss = 0.00776253\n",
            "Iteration 355, loss = 0.00768188\n",
            "Iteration 356, loss = 0.00760904\n",
            "Iteration 357, loss = 0.00753981\n",
            "Iteration 358, loss = 0.00747960\n",
            "Iteration 359, loss = 0.00755444\n",
            "Iteration 360, loss = 0.00734570\n",
            "Iteration 361, loss = 0.00728179\n",
            "Iteration 362, loss = 0.00723892\n",
            "Iteration 363, loss = 0.00714896\n",
            "Iteration 364, loss = 0.00707133\n",
            "Iteration 365, loss = 0.00711971\n",
            "Iteration 366, loss = 0.00694420\n",
            "Iteration 367, loss = 0.00689125\n",
            "Iteration 368, loss = 0.00683473\n",
            "Iteration 369, loss = 0.00674453\n",
            "Iteration 370, loss = 0.00669337\n",
            "Iteration 371, loss = 0.00667253\n",
            "Iteration 372, loss = 0.00657687\n",
            "Iteration 373, loss = 0.00652429\n",
            "Iteration 374, loss = 0.00653072\n",
            "Iteration 375, loss = 0.00647395\n",
            "Iteration 376, loss = 0.00631716\n",
            "Iteration 377, loss = 0.00631170\n",
            "Iteration 378, loss = 0.00623876\n",
            "Iteration 379, loss = 0.00616754\n",
            "Iteration 380, loss = 0.00615535\n",
            "Iteration 381, loss = 0.00608389\n",
            "Iteration 382, loss = 0.00606474\n",
            "Iteration 383, loss = 0.00596744\n",
            "Iteration 384, loss = 0.00595835\n",
            "Iteration 385, loss = 0.00587703\n",
            "Iteration 386, loss = 0.00583270\n",
            "Iteration 387, loss = 0.00578158\n",
            "Iteration 388, loss = 0.00572338\n",
            "Iteration 389, loss = 0.00566341\n",
            "Iteration 390, loss = 0.00560224\n",
            "Iteration 391, loss = 0.00556456\n",
            "Iteration 392, loss = 0.00555056\n",
            "Iteration 393, loss = 0.00550125\n",
            "Iteration 394, loss = 0.00541067\n",
            "Iteration 395, loss = 0.00541478\n",
            "Iteration 396, loss = 0.00539054\n",
            "Iteration 397, loss = 0.00532027\n",
            "Iteration 398, loss = 0.00530841\n",
            "Iteration 399, loss = 0.00519759\n",
            "Iteration 400, loss = 0.00518316\n",
            "Iteration 401, loss = 0.00522863\n",
            "Iteration 402, loss = 0.00507770\n",
            "Iteration 403, loss = 0.00502640\n",
            "Iteration 404, loss = 0.00502059\n",
            "Iteration 405, loss = 0.00496324\n",
            "Iteration 406, loss = 0.00491985\n",
            "Iteration 407, loss = 0.00487643\n",
            "Iteration 408, loss = 0.00481434\n",
            "Iteration 409, loss = 0.00479366\n",
            "Iteration 410, loss = 0.00475661\n",
            "Iteration 411, loss = 0.00471818\n",
            "Iteration 412, loss = 0.00467776\n",
            "Iteration 413, loss = 0.00467401\n",
            "Iteration 414, loss = 0.00466251\n",
            "Iteration 415, loss = 0.00457794\n",
            "Iteration 416, loss = 0.00453225\n",
            "Iteration 417, loss = 0.00451774\n",
            "Iteration 418, loss = 0.00451480\n",
            "Iteration 419, loss = 0.00441260\n",
            "Iteration 420, loss = 0.00439389\n",
            "Iteration 421, loss = 0.00436258\n",
            "Iteration 422, loss = 0.00437135\n",
            "Iteration 423, loss = 0.00427033\n",
            "Iteration 424, loss = 0.00426608\n",
            "Iteration 425, loss = 0.00421876\n",
            "Iteration 426, loss = 0.00417066\n",
            "Iteration 427, loss = 0.00414866\n",
            "Iteration 428, loss = 0.00413607\n",
            "Iteration 429, loss = 0.00408829\n",
            "Iteration 430, loss = 0.00407872\n",
            "Iteration 431, loss = 0.00402005\n",
            "Iteration 432, loss = 0.00399288\n",
            "Iteration 433, loss = 0.00398722\n",
            "Iteration 434, loss = 0.00393814\n",
            "Iteration 435, loss = 0.00388882\n",
            "Iteration 436, loss = 0.00388836\n",
            "Iteration 437, loss = 0.00384467\n",
            "Iteration 438, loss = 0.00382971\n",
            "Iteration 439, loss = 0.00381402\n",
            "Iteration 440, loss = 0.00377231\n",
            "Iteration 441, loss = 0.00373460\n",
            "Iteration 442, loss = 0.00372601\n",
            "Iteration 443, loss = 0.00367656\n",
            "Iteration 444, loss = 0.00365610\n",
            "Iteration 445, loss = 0.00364162\n",
            "Iteration 446, loss = 0.00361687\n",
            "Iteration 447, loss = 0.00360191\n",
            "Iteration 448, loss = 0.00353048\n",
            "Iteration 449, loss = 0.00353776\n",
            "Iteration 450, loss = 0.00350771\n",
            "Iteration 451, loss = 0.00346397\n",
            "Iteration 452, loss = 0.00343187\n",
            "Iteration 453, loss = 0.00344347\n",
            "Iteration 454, loss = 0.00342204\n",
            "Iteration 455, loss = 0.00338313\n",
            "Iteration 456, loss = 0.00335448\n",
            "Iteration 457, loss = 0.00333871\n",
            "Iteration 458, loss = 0.00328448\n",
            "Iteration 459, loss = 0.00329070\n",
            "Iteration 460, loss = 0.00324905\n",
            "Iteration 461, loss = 0.00322491\n",
            "Iteration 462, loss = 0.00319798\n",
            "Iteration 463, loss = 0.00319612\n",
            "Iteration 464, loss = 0.00316077\n",
            "Iteration 465, loss = 0.00314608\n",
            "Iteration 466, loss = 0.00312213\n",
            "Iteration 467, loss = 0.00310865\n",
            "Iteration 468, loss = 0.00306945\n",
            "Iteration 469, loss = 0.00305011\n",
            "Iteration 470, loss = 0.00304420\n",
            "Iteration 471, loss = 0.00300736\n",
            "Iteration 472, loss = 0.00298415\n",
            "Iteration 473, loss = 0.00298314\n",
            "Iteration 474, loss = 0.00295554\n",
            "Iteration 475, loss = 0.00290928\n",
            "Iteration 476, loss = 0.00292739\n",
            "Iteration 477, loss = 0.00287936\n",
            "Iteration 478, loss = 0.00286632\n",
            "Iteration 479, loss = 0.00284943\n",
            "Iteration 480, loss = 0.00282241\n",
            "Iteration 481, loss = 0.00281804\n",
            "Iteration 482, loss = 0.00277342\n",
            "Iteration 483, loss = 0.00277426\n",
            "Iteration 484, loss = 0.00276717\n",
            "Iteration 485, loss = 0.00273170\n",
            "Iteration 486, loss = 0.00272584\n",
            "Iteration 487, loss = 0.00269666\n",
            "Iteration 488, loss = 0.00266801\n",
            "Iteration 489, loss = 0.00265764\n",
            "Iteration 490, loss = 0.00263525\n",
            "Iteration 491, loss = 0.00261946\n",
            "Iteration 492, loss = 0.00261043\n",
            "Iteration 493, loss = 0.00261837\n",
            "Iteration 494, loss = 0.00256927\n",
            "Iteration 495, loss = 0.00257074\n",
            "Iteration 496, loss = 0.00254657\n",
            "Iteration 497, loss = 0.00250987\n",
            "Iteration 498, loss = 0.00251509\n",
            "Iteration 499, loss = 0.00248234\n",
            "Iteration 500, loss = 0.00246542\n",
            "Iteration 501, loss = 0.00245930\n",
            "Iteration 502, loss = 0.00244494\n",
            "Iteration 503, loss = 0.00242889\n",
            "Iteration 504, loss = 0.00240834\n",
            "Iteration 505, loss = 0.00238760\n",
            "Iteration 506, loss = 0.00237986\n",
            "Iteration 507, loss = 0.00236019\n",
            "Iteration 508, loss = 0.00234825\n",
            "Iteration 509, loss = 0.00233520\n",
            "Iteration 510, loss = 0.00231108\n",
            "Iteration 511, loss = 0.00230287\n",
            "Iteration 512, loss = 0.00228355\n",
            "Iteration 513, loss = 0.00227800\n",
            "Iteration 514, loss = 0.00225519\n",
            "Iteration 515, loss = 0.00224671\n",
            "Iteration 516, loss = 0.00222952\n",
            "Iteration 517, loss = 0.00220731\n",
            "Iteration 518, loss = 0.00220043\n",
            "Iteration 519, loss = 0.00218262\n",
            "Iteration 520, loss = 0.00216769\n",
            "Iteration 521, loss = 0.00215953\n",
            "Iteration 522, loss = 0.00214232\n",
            "Iteration 523, loss = 0.00213220\n",
            "Iteration 524, loss = 0.00211628\n",
            "Iteration 525, loss = 0.00210881\n",
            "Iteration 526, loss = 0.00209569\n",
            "Iteration 527, loss = 0.00207865\n",
            "Iteration 528, loss = 0.00206569\n",
            "Iteration 529, loss = 0.00206178\n",
            "Iteration 530, loss = 0.00204960\n",
            "Iteration 531, loss = 0.00203087\n",
            "Iteration 532, loss = 0.00200868\n",
            "Iteration 533, loss = 0.00200456\n",
            "Iteration 534, loss = 0.00201927\n",
            "Iteration 535, loss = 0.00197658\n",
            "Iteration 536, loss = 0.00200404\n",
            "Iteration 537, loss = 0.00197945\n",
            "Iteration 538, loss = 0.00194553\n",
            "Iteration 539, loss = 0.00194558\n",
            "Iteration 540, loss = 0.00191488\n",
            "Iteration 541, loss = 0.00190987\n",
            "Iteration 542, loss = 0.00191186\n",
            "Iteration 543, loss = 0.00189743\n",
            "Iteration 544, loss = 0.00186529\n",
            "Iteration 545, loss = 0.00186812\n",
            "Iteration 546, loss = 0.00185211\n",
            "Iteration 547, loss = 0.00183412\n",
            "Iteration 548, loss = 0.00183210\n",
            "Iteration 549, loss = 0.00180669\n",
            "Iteration 550, loss = 0.00180023\n",
            "Iteration 551, loss = 0.00178863\n",
            "Iteration 552, loss = 0.00177688\n",
            "Iteration 553, loss = 0.00176950\n",
            "Iteration 554, loss = 0.00176077\n",
            "Iteration 555, loss = 0.00174745\n",
            "Iteration 556, loss = 0.00174217\n",
            "Iteration 557, loss = 0.00173435\n",
            "Iteration 558, loss = 0.00171863\n",
            "Iteration 559, loss = 0.00170371\n",
            "Iteration 560, loss = 0.00169547\n",
            "Iteration 561, loss = 0.00168520\n",
            "Iteration 562, loss = 0.00168279\n",
            "Iteration 563, loss = 0.00167417\n",
            "Iteration 564, loss = 0.00165707\n",
            "Iteration 565, loss = 0.00165179\n",
            "Iteration 566, loss = 0.00163408\n",
            "Iteration 567, loss = 0.00164538\n",
            "Iteration 568, loss = 0.00162772\n",
            "Iteration 569, loss = 0.00162523\n",
            "Iteration 570, loss = 0.00161450\n",
            "Iteration 571, loss = 0.00159037\n",
            "Iteration 572, loss = 0.00158028\n",
            "Iteration 573, loss = 0.00157253\n",
            "Iteration 574, loss = 0.00157182\n",
            "Iteration 575, loss = 0.00155437\n",
            "Iteration 576, loss = 0.00156721\n",
            "Iteration 577, loss = 0.00156245\n",
            "Iteration 578, loss = 0.00153557\n",
            "Iteration 579, loss = 0.00153472\n",
            "Iteration 580, loss = 0.00151269\n",
            "Iteration 581, loss = 0.00149955\n",
            "Iteration 582, loss = 0.00150751\n",
            "Iteration 583, loss = 0.00150599\n",
            "Iteration 584, loss = 0.00148421\n",
            "Iteration 585, loss = 0.00146980\n",
            "Iteration 586, loss = 0.00145988\n",
            "Iteration 587, loss = 0.00145353\n",
            "Iteration 588, loss = 0.00144155\n",
            "Iteration 589, loss = 0.00143451\n",
            "Iteration 590, loss = 0.00142753\n",
            "Iteration 591, loss = 0.00142479\n",
            "Iteration 592, loss = 0.00141041\n",
            "Iteration 593, loss = 0.00140913\n",
            "Iteration 594, loss = 0.00139549\n",
            "Iteration 595, loss = 0.00138487\n",
            "Iteration 596, loss = 0.00138007\n",
            "Iteration 597, loss = 0.00137061\n",
            "Iteration 598, loss = 0.00136878\n",
            "Iteration 599, loss = 0.00135545\n",
            "Iteration 600, loss = 0.00135331\n",
            "Iteration 601, loss = 0.00134498\n",
            "Iteration 602, loss = 0.00133715\n",
            "Iteration 603, loss = 0.00133173\n",
            "Iteration 604, loss = 0.00132202\n",
            "Iteration 605, loss = 0.00131696\n",
            "Iteration 606, loss = 0.00133356\n",
            "Iteration 607, loss = 0.00131942\n",
            "Iteration 608, loss = 0.00130166\n",
            "Iteration 609, loss = 0.00129772\n",
            "Iteration 610, loss = 0.00127867\n",
            "Iteration 611, loss = 0.00127693\n",
            "Iteration 612, loss = 0.00127444\n",
            "Iteration 613, loss = 0.00126404\n",
            "Iteration 614, loss = 0.00125835\n",
            "Iteration 615, loss = 0.00125205\n",
            "Iteration 616, loss = 0.00125253\n",
            "Iteration 617, loss = 0.00123011\n",
            "Iteration 618, loss = 0.00123510\n",
            "Iteration 619, loss = 0.00122082\n",
            "Iteration 620, loss = 0.00121746\n",
            "Iteration 621, loss = 0.00122513\n",
            "Iteration 622, loss = 0.00120531\n",
            "Iteration 623, loss = 0.00119889\n",
            "Iteration 624, loss = 0.00119359\n",
            "Iteration 625, loss = 0.00118441\n",
            "Iteration 626, loss = 0.00118232\n",
            "Iteration 627, loss = 0.00117711\n",
            "Iteration 628, loss = 0.00117086\n",
            "Iteration 629, loss = 0.00116323\n",
            "Iteration 630, loss = 0.00115318\n",
            "Iteration 631, loss = 0.00114774\n",
            "Iteration 632, loss = 0.00114294\n",
            "Iteration 633, loss = 0.00113564\n",
            "Iteration 634, loss = 0.00112529\n",
            "Iteration 635, loss = 0.00112088\n",
            "Iteration 636, loss = 0.00111516\n",
            "Iteration 637, loss = 0.00110836\n",
            "Iteration 638, loss = 0.00110602\n",
            "Iteration 639, loss = 0.00109755\n",
            "Iteration 640, loss = 0.00109252\n",
            "Iteration 641, loss = 0.00109167\n",
            "Iteration 642, loss = 0.00108047\n",
            "Iteration 643, loss = 0.00107816\n",
            "Iteration 644, loss = 0.00107646\n",
            "Iteration 645, loss = 0.00106206\n",
            "Iteration 646, loss = 0.00106509\n",
            "Iteration 647, loss = 0.00105523\n",
            "Iteration 648, loss = 0.00105689\n",
            "Iteration 649, loss = 0.00104752\n",
            "Iteration 650, loss = 0.00104037\n",
            "Iteration 651, loss = 0.00103732\n",
            "Iteration 652, loss = 0.00103161\n",
            "Iteration 653, loss = 0.00102467\n",
            "Iteration 654, loss = 0.00101927\n",
            "Iteration 655, loss = 0.00101209\n",
            "Iteration 656, loss = 0.00100749\n",
            "Training loss did not improve more than tol=0.000010 for 10 consecutive epochs. Stopping.\n"
          ]
        },
        {
          "output_type": "execute_result",
          "data": {
            "text/plain": [
              "MLPClassifier(activation='relu', alpha=0.0001, batch_size='auto', beta_1=0.9,\n",
              "              beta_2=0.999, early_stopping=False, epsilon=1e-08,\n",
              "              hidden_layer_sizes=(20, 20), learning_rate='constant',\n",
              "              learning_rate_init=0.001, max_fun=15000, max_iter=1500,\n",
              "              momentum=0.9, n_iter_no_change=10, nesterovs_momentum=True,\n",
              "              power_t=0.5, random_state=None, shuffle=True, solver='adam',\n",
              "              tol=1e-05, validation_fraction=0.1, verbose=True,\n",
              "              warm_start=False)"
            ]
          },
          "metadata": {},
          "execution_count": 212
        }
      ]
    },
    {
      "cell_type": "code",
      "metadata": {
        "colab": {
          "base_uri": "https://localhost:8080/",
          "height": 378
        },
        "id": "G6qMQKYpmmN3",
        "outputId": "c0cb844e-68bb-4e1f-dcb5-ce1352cf9216"
      },
      "source": [
        "plt.plot(rede_neural.loss_curve_)\n",
        "plt.xlabel('Iteration')\n",
        "plt.ylabel('Loss')"
      ],
      "execution_count": 213,
      "outputs": [
        {
          "output_type": "execute_result",
          "data": {
            "text/plain": [
              "Text(0, 0.5, 'Loss')"
            ]
          },
          "metadata": {},
          "execution_count": 213
        },
        {
          "output_type": "display_data",
          "data": {
            "image/png": "[encoded data removed]",
            "text/plain": [
              "<Figure size 576x396 with 1 Axes>"
            ]
          },
          "metadata": {}
        }
      ]
    },
    {
      "cell_type": "code",
      "metadata": {
        "colab": {
          "base_uri": "https://localhost:8080/"
        },
        "id": "mjbUc_XTeRAF",
        "outputId": "39ad81e2-2840-44c1-981e-d4e5562b3523"
      },
      "source": [
        "previsoes = rede_neural.predict(X_test)\n",
        "previsoes"
      ],
      "execution_count": 214,
      "outputs": [
        {
          "output_type": "execute_result",
          "data": {
            "text/plain": [
              "array([0, 0, 1, 1, 1, 0, 0, 1, 1, 1, 1, 0, 1, 0, 1, 0, 1, 1, 1, 1, 0, 1,\n",
              "       1, 1, 1, 1, 0, 0, 0, 1, 0, 1, 1, 1, 1, 0, 1, 0, 0, 1, 1, 0, 1, 0,\n",
              "       1, 0, 0, 1, 0, 1, 1, 1, 1, 0, 0, 0, 1, 1, 1, 1, 0, 1, 1, 0, 1, 0,\n",
              "       0, 0, 1, 1, 0, 1, 1, 1, 1, 0, 0, 1, 1, 0, 0, 0, 0, 1, 1, 0, 0, 0,\n",
              "       1, 0, 0, 1, 1, 1, 0, 1, 0, 0, 0, 1, 1, 1, 1, 0, 1, 0, 1, 0, 1, 1,\n",
              "       1, 0, 0, 0, 0, 0, 0, 1, 0, 1, 1, 0, 0, 0, 0, 1, 0, 1, 1, 0, 0, 1,\n",
              "       1, 1, 0, 1, 0, 0, 1, 1, 0, 1, 0, 0, 0, 0, 0, 0, 0, 0, 0, 0, 1, 1,\n",
              "       0, 0, 0, 0, 0, 0, 0, 0, 1, 1, 1, 1, 0, 0, 1, 1, 1, 0, 0, 0, 0, 0,\n",
              "       0, 0, 0, 1, 0, 0, 0, 1, 0, 1, 1, 0, 0, 1, 0, 0, 0, 1, 1, 0, 0, 0,\n",
              "       0, 0, 0, 1, 0, 0, 0, 1, 1, 1, 0, 0, 1, 0, 0, 0, 0, 1, 1, 0, 1, 0,\n",
              "       0, 0, 0, 1, 1, 1, 1, 1, 0, 1, 1, 1, 0, 0, 1, 0, 1, 1, 1, 0, 1, 0,\n",
              "       1, 0, 1, 0, 0, 0, 0, 0, 1, 1, 1, 0, 1, 0, 0, 0, 0, 0, 0, 0, 1, 0,\n",
              "       0, 1, 1, 0, 0, 1, 0, 0, 0, 0, 1, 0, 0, 1, 1, 1])"
            ]
          },
          "metadata": {},
          "execution_count": 214
        }
      ]
    },
    {
      "cell_type": "code",
      "metadata": {
        "colab": {
          "base_uri": "https://localhost:8080/"
        },
        "id": "vcFp6FkPejk3",
        "outputId": "498810e6-738c-4edf-edaa-b68d229add92"
      },
      "source": [
        "from sklearn.metrics import accuracy_score, classification_report\n",
        "accuracy_score(y_test, previsoes)"
      ],
      "execution_count": 215,
      "outputs": [
        {
          "output_type": "execute_result",
          "data": {
            "text/plain": [
              "0.825"
            ]
          },
          "metadata": {},
          "execution_count": 215
        }
      ]
    },
    {
      "cell_type": "code",
      "metadata": {
        "colab": {
          "base_uri": "https://localhost:8080/",
          "height": 1000
        },
        "id": "_duyPmIyem1A",
        "outputId": "4cbf4adf-b236-4d97-c166-1d0ba2d37fbf"
      },
      "source": [
        "from yellowbrick.classifier import ConfusionMatrix\n",
        "cm = ConfusionMatrix(rede_neural)\n",
        "cm.fit(X_train, y_train)\n",
        "cm.score(X_test, y_test)"
      ],
      "execution_count": 216,
      "outputs": [
        {
          "output_type": "stream",
          "name": "stdout",
          "text": [
            "Iteration 1, loss = 0.79103303\n",
            "Iteration 2, loss = 0.74629301\n",
            "Iteration 3, loss = 0.71681550\n",
            "Iteration 4, loss = 0.69732031\n",
            "Iteration 5, loss = 0.68472469\n",
            "Iteration 6, loss = 0.67490301\n",
            "Iteration 7, loss = 0.66634925\n",
            "Iteration 8, loss = 0.65622695\n",
            "Iteration 9, loss = 0.64631857\n",
            "Iteration 10, loss = 0.63485203\n",
            "Iteration 11, loss = 0.62292034\n",
            "Iteration 12, loss = 0.60995119\n",
            "Iteration 13, loss = 0.59660554\n",
            "Iteration 14, loss = 0.58284711\n",
            "Iteration 15, loss = 0.56978000\n",
            "Iteration 16, loss = 0.55603072\n",
            "Iteration 17, loss = 0.54352355\n",
            "Iteration 18, loss = 0.53220847\n",
            "Iteration 19, loss = 0.52111959\n",
            "Iteration 20, loss = 0.51132931\n",
            "Iteration 21, loss = 0.50265218\n",
            "Iteration 22, loss = 0.49434835\n",
            "Iteration 23, loss = 0.48675944\n",
            "Iteration 24, loss = 0.48060718\n",
            "Iteration 25, loss = 0.47362569\n",
            "Iteration 26, loss = 0.46775903\n",
            "Iteration 27, loss = 0.46319687\n",
            "Iteration 28, loss = 0.45816911\n",
            "Iteration 29, loss = 0.45370500\n",
            "Iteration 30, loss = 0.44931253\n",
            "Iteration 31, loss = 0.44527111\n",
            "Iteration 32, loss = 0.44096066\n",
            "Iteration 33, loss = 0.43736333\n",
            "Iteration 34, loss = 0.43290056\n",
            "Iteration 35, loss = 0.42899986\n",
            "Iteration 36, loss = 0.42543250\n",
            "Iteration 37, loss = 0.42197013\n",
            "Iteration 38, loss = 0.41848101\n",
            "Iteration 39, loss = 0.41472310\n",
            "Iteration 40, loss = 0.41101656\n",
            "Iteration 41, loss = 0.40775610\n",
            "Iteration 42, loss = 0.40419498\n",
            "Iteration 43, loss = 0.40135438\n",
            "Iteration 44, loss = 0.39738656\n",
            "Iteration 45, loss = 0.39419369\n",
            "Iteration 46, loss = 0.39147093\n",
            "Iteration 47, loss = 0.38809044\n",
            "Iteration 48, loss = 0.38524163\n",
            "Iteration 49, loss = 0.38266413\n",
            "Iteration 50, loss = 0.37806995\n",
            "Iteration 51, loss = 0.37555378\n",
            "Iteration 52, loss = 0.37212316\n",
            "Iteration 53, loss = 0.36829182\n",
            "Iteration 54, loss = 0.36534425\n",
            "Iteration 55, loss = 0.36338793\n",
            "Iteration 56, loss = 0.35848770\n",
            "Iteration 57, loss = 0.35557743\n",
            "Iteration 58, loss = 0.35220247\n",
            "Iteration 59, loss = 0.34904451\n",
            "Iteration 60, loss = 0.34584734\n",
            "Iteration 61, loss = 0.34235104\n",
            "Iteration 62, loss = 0.33940228\n",
            "Iteration 63, loss = 0.33637374\n",
            "Iteration 64, loss = 0.33282038\n",
            "Iteration 65, loss = 0.33051173\n",
            "Iteration 66, loss = 0.32782395\n",
            "Iteration 67, loss = 0.32262825\n",
            "Iteration 68, loss = 0.32106626\n",
            "Iteration 69, loss = 0.31680688\n",
            "Iteration 70, loss = 0.31399619\n",
            "Iteration 71, loss = 0.31150085\n",
            "Iteration 72, loss = 0.30725114\n",
            "Iteration 73, loss = 0.30432125\n",
            "Iteration 74, loss = 0.30172440\n",
            "Iteration 75, loss = 0.29856028\n",
            "Iteration 76, loss = 0.29480625\n",
            "Iteration 77, loss = 0.29133267\n",
            "Iteration 78, loss = 0.28842260\n",
            "Iteration 79, loss = 0.28520717\n",
            "Iteration 80, loss = 0.28242324\n",
            "Iteration 81, loss = 0.27957273\n",
            "Iteration 82, loss = 0.27652655\n",
            "Iteration 83, loss = 0.27303177\n",
            "Iteration 84, loss = 0.27059011\n",
            "Iteration 85, loss = 0.26775635\n",
            "Iteration 86, loss = 0.26374840\n",
            "Iteration 87, loss = 0.26113318\n",
            "Iteration 88, loss = 0.25805833\n",
            "Iteration 89, loss = 0.25515010\n",
            "Iteration 90, loss = 0.25250760\n",
            "Iteration 91, loss = 0.24940563\n",
            "Iteration 92, loss = 0.24673759\n",
            "Iteration 93, loss = 0.24357706\n",
            "Iteration 94, loss = 0.24093540\n",
            "Iteration 95, loss = 0.23957472\n",
            "Iteration 96, loss = 0.23901987\n",
            "Iteration 97, loss = 0.23384211\n",
            "Iteration 98, loss = 0.23231616\n",
            "Iteration 99, loss = 0.22797546\n",
            "Iteration 100, loss = 0.22505322\n",
            "Iteration 101, loss = 0.22115645\n",
            "Iteration 102, loss = 0.21960116\n",
            "Iteration 103, loss = 0.21736675\n",
            "Iteration 104, loss = 0.21438723\n",
            "Iteration 105, loss = 0.21065238\n",
            "Iteration 106, loss = 0.20893636\n",
            "Iteration 107, loss = 0.20701401\n",
            "Iteration 108, loss = 0.20343478\n",
            "Iteration 109, loss = 0.19993273\n",
            "Iteration 110, loss = 0.19746310\n",
            "Iteration 111, loss = 0.19469343\n",
            "Iteration 112, loss = 0.19268756\n",
            "Iteration 113, loss = 0.18988834\n",
            "Iteration 114, loss = 0.18769698\n",
            "Iteration 115, loss = 0.18443108\n",
            "Iteration 116, loss = 0.18233531\n",
            "Iteration 117, loss = 0.18026023\n",
            "Iteration 118, loss = 0.17673730\n",
            "Iteration 119, loss = 0.17485637\n",
            "Iteration 120, loss = 0.17208960\n",
            "Iteration 121, loss = 0.16924756\n",
            "Iteration 122, loss = 0.16718191\n",
            "Iteration 123, loss = 0.16485853\n",
            "Iteration 124, loss = 0.16286892\n",
            "Iteration 125, loss = 0.16020376\n",
            "Iteration 126, loss = 0.15725737\n",
            "Iteration 127, loss = 0.15480177\n",
            "Iteration 128, loss = 0.15284064\n",
            "Iteration 129, loss = 0.15057383\n",
            "Iteration 130, loss = 0.14911154\n",
            "Iteration 131, loss = 0.14614684\n",
            "Iteration 132, loss = 0.14450435\n",
            "Iteration 133, loss = 0.14191034\n",
            "Iteration 134, loss = 0.14027645\n",
            "Iteration 135, loss = 0.13736723\n",
            "Iteration 136, loss = 0.13662298\n",
            "Iteration 137, loss = 0.13403245\n",
            "Iteration 138, loss = 0.13139702\n",
            "Iteration 139, loss = 0.12913229\n",
            "Iteration 140, loss = 0.12737750\n",
            "Iteration 141, loss = 0.12624547\n",
            "Iteration 142, loss = 0.12369282\n",
            "Iteration 143, loss = 0.12123135\n",
            "Iteration 144, loss = 0.11918990\n",
            "Iteration 145, loss = 0.11822140\n",
            "Iteration 146, loss = 0.11790728\n",
            "Iteration 147, loss = 0.11845173\n",
            "Iteration 148, loss = 0.11467338\n",
            "Iteration 149, loss = 0.11283702\n",
            "Iteration 150, loss = 0.10881193\n",
            "Iteration 151, loss = 0.10680251\n",
            "Iteration 152, loss = 0.10572199\n",
            "Iteration 153, loss = 0.10465626\n",
            "Iteration 154, loss = 0.10326254\n",
            "Iteration 155, loss = 0.10199946\n",
            "Iteration 156, loss = 0.09903875\n",
            "Iteration 157, loss = 0.09788468\n",
            "Iteration 158, loss = 0.09627809\n",
            "Iteration 159, loss = 0.09440577\n",
            "Iteration 160, loss = 0.09542599\n",
            "Iteration 161, loss = 0.09299833\n",
            "Iteration 162, loss = 0.09047238\n",
            "Iteration 163, loss = 0.08975800\n",
            "Iteration 164, loss = 0.08925523\n",
            "Iteration 165, loss = 0.08765693\n",
            "Iteration 166, loss = 0.08563038\n",
            "Iteration 167, loss = 0.08400819\n",
            "Iteration 168, loss = 0.08202664\n",
            "Iteration 169, loss = 0.08086352\n",
            "Iteration 170, loss = 0.07937147\n",
            "Iteration 171, loss = 0.07840154\n",
            "Iteration 172, loss = 0.07650135\n",
            "Iteration 173, loss = 0.07559929\n",
            "Iteration 174, loss = 0.07465392\n",
            "Iteration 175, loss = 0.07345645\n",
            "Iteration 176, loss = 0.07244917\n",
            "Iteration 177, loss = 0.07103939\n",
            "Iteration 178, loss = 0.07032715\n",
            "Iteration 179, loss = 0.06893248\n",
            "Iteration 180, loss = 0.06886609\n",
            "Iteration 181, loss = 0.06691083\n",
            "Iteration 182, loss = 0.06592080\n",
            "Iteration 183, loss = 0.06517093\n",
            "Iteration 184, loss = 0.06547954\n",
            "Iteration 185, loss = 0.06426945\n",
            "Iteration 186, loss = 0.06357259\n",
            "Iteration 187, loss = 0.06082961\n",
            "Iteration 188, loss = 0.06009063\n",
            "Iteration 189, loss = 0.05965392\n",
            "Iteration 190, loss = 0.05959746\n",
            "Iteration 191, loss = 0.05820807\n",
            "Iteration 192, loss = 0.05745533\n",
            "Iteration 193, loss = 0.05609576\n",
            "Iteration 194, loss = 0.05494122\n",
            "Iteration 195, loss = 0.05412555\n",
            "Iteration 196, loss = 0.05367193\n",
            "Iteration 197, loss = 0.05316455\n",
            "Iteration 198, loss = 0.05286755\n",
            "Iteration 199, loss = 0.05157666\n",
            "Iteration 200, loss = 0.05076931\n",
            "Iteration 201, loss = 0.04926271\n",
            "Iteration 202, loss = 0.04909631\n",
            "Iteration 203, loss = 0.04804917\n",
            "Iteration 204, loss = 0.04780911\n",
            "Iteration 205, loss = 0.04737920\n",
            "Iteration 206, loss = 0.04616520\n",
            "Iteration 207, loss = 0.04534115\n",
            "Iteration 208, loss = 0.04484872\n",
            "Iteration 209, loss = 0.04364508\n",
            "Iteration 210, loss = 0.04347558\n",
            "Iteration 211, loss = 0.04291315\n",
            "Iteration 212, loss = 0.04288016\n",
            "Iteration 213, loss = 0.04268521\n",
            "Iteration 214, loss = 0.04292092\n",
            "Iteration 215, loss = 0.04069976\n",
            "Iteration 216, loss = 0.03975132\n",
            "Iteration 217, loss = 0.03873283\n",
            "Iteration 218, loss = 0.03855687\n",
            "Iteration 219, loss = 0.03800269\n",
            "Iteration 220, loss = 0.03718354\n",
            "Iteration 221, loss = 0.03684937\n",
            "Iteration 222, loss = 0.03620418\n",
            "Iteration 223, loss = 0.03596913\n",
            "Iteration 224, loss = 0.03529661\n",
            "Iteration 225, loss = 0.03478046\n",
            "Iteration 226, loss = 0.03428935\n",
            "Iteration 227, loss = 0.03418801\n",
            "Iteration 228, loss = 0.03363190\n",
            "Iteration 229, loss = 0.03320054\n",
            "Iteration 230, loss = 0.03262835\n",
            "Iteration 231, loss = 0.03197822\n",
            "Iteration 232, loss = 0.03131478\n",
            "Iteration 233, loss = 0.03158792\n",
            "Iteration 234, loss = 0.03080317\n",
            "Iteration 235, loss = 0.03019530\n",
            "Iteration 236, loss = 0.02983064\n",
            "Iteration 237, loss = 0.02917542\n",
            "Iteration 238, loss = 0.02907560\n",
            "Iteration 239, loss = 0.02885225\n",
            "Iteration 240, loss = 0.02965021\n",
            "Iteration 241, loss = 0.02830754\n",
            "Iteration 242, loss = 0.02736733\n",
            "Iteration 243, loss = 0.02694816\n",
            "Iteration 244, loss = 0.02662083\n",
            "Iteration 245, loss = 0.02637479\n",
            "Iteration 246, loss = 0.02594824\n",
            "Iteration 247, loss = 0.02551338\n",
            "Iteration 248, loss = 0.02516730\n",
            "Iteration 249, loss = 0.02503092\n",
            "Iteration 250, loss = 0.02451860\n",
            "Iteration 251, loss = 0.02472782\n",
            "Iteration 252, loss = 0.02405532\n",
            "Iteration 253, loss = 0.02392316\n",
            "Iteration 254, loss = 0.02376351\n",
            "Iteration 255, loss = 0.02286103\n",
            "Iteration 256, loss = 0.02274255\n",
            "Iteration 257, loss = 0.02309669\n",
            "Iteration 258, loss = 0.02229686\n",
            "Iteration 259, loss = 0.02174500\n",
            "Iteration 260, loss = 0.02148448\n",
            "Iteration 261, loss = 0.02119343\n",
            "Iteration 262, loss = 0.02086578\n",
            "Iteration 263, loss = 0.02072461\n",
            "Iteration 264, loss = 0.02037459\n",
            "Iteration 265, loss = 0.02021019\n",
            "Iteration 266, loss = 0.01991962\n",
            "Iteration 267, loss = 0.01965242\n",
            "Iteration 268, loss = 0.01941080\n",
            "Iteration 269, loss = 0.01909220\n",
            "Iteration 270, loss = 0.01912881\n",
            "Iteration 271, loss = 0.01869485\n",
            "Iteration 272, loss = 0.01840265\n",
            "Iteration 273, loss = 0.01812225\n",
            "Iteration 274, loss = 0.01802997\n",
            "Iteration 275, loss = 0.01768995\n",
            "Iteration 276, loss = 0.01774131\n",
            "Iteration 277, loss = 0.01795475\n",
            "Iteration 278, loss = 0.01784285\n",
            "Iteration 279, loss = 0.01732656\n",
            "Iteration 280, loss = 0.01682435\n",
            "Iteration 281, loss = 0.01656280\n",
            "Iteration 282, loss = 0.01639508\n",
            "Iteration 283, loss = 0.01621368\n",
            "Iteration 284, loss = 0.01590580\n",
            "Iteration 285, loss = 0.01573230\n",
            "Iteration 286, loss = 0.01550523\n",
            "Iteration 287, loss = 0.01534077\n",
            "Iteration 288, loss = 0.01516599\n",
            "Iteration 289, loss = 0.01501563\n",
            "Iteration 290, loss = 0.01482897\n",
            "Iteration 291, loss = 0.01472740\n",
            "Iteration 292, loss = 0.01439961\n",
            "Iteration 293, loss = 0.01449121\n",
            "Iteration 294, loss = 0.01455440\n",
            "Iteration 295, loss = 0.01472453\n",
            "Iteration 296, loss = 0.01425559\n",
            "Iteration 297, loss = 0.01369590\n",
            "Iteration 298, loss = 0.01369533\n",
            "Iteration 299, loss = 0.01348559\n",
            "Iteration 300, loss = 0.01311277\n",
            "Iteration 301, loss = 0.01307596\n",
            "Iteration 302, loss = 0.01283975\n",
            "Iteration 303, loss = 0.01290047\n",
            "Iteration 304, loss = 0.01263930\n",
            "Iteration 305, loss = 0.01245950\n",
            "Iteration 306, loss = 0.01227987\n",
            "Iteration 307, loss = 0.01213520\n",
            "Iteration 308, loss = 0.01203820\n",
            "Iteration 309, loss = 0.01188402\n",
            "Iteration 310, loss = 0.01175906\n",
            "Iteration 311, loss = 0.01166550\n",
            "Iteration 312, loss = 0.01148364\n",
            "Iteration 313, loss = 0.01139005\n",
            "Iteration 314, loss = 0.01131488\n",
            "Iteration 315, loss = 0.01124068\n",
            "Iteration 316, loss = 0.01108453\n",
            "Iteration 317, loss = 0.01092005\n",
            "Iteration 318, loss = 0.01084989\n",
            "Iteration 319, loss = 0.01067215\n",
            "Iteration 320, loss = 0.01063699\n",
            "Iteration 321, loss = 0.01042127\n",
            "Iteration 322, loss = 0.01034634\n",
            "Iteration 323, loss = 0.01025042\n",
            "Iteration 324, loss = 0.01015368\n",
            "Iteration 325, loss = 0.01003187\n",
            "Iteration 326, loss = 0.00991083\n",
            "Iteration 327, loss = 0.00980265\n",
            "Iteration 328, loss = 0.00966328\n",
            "Iteration 329, loss = 0.00960687\n",
            "Iteration 330, loss = 0.00946305\n",
            "Iteration 331, loss = 0.00943086\n",
            "Iteration 332, loss = 0.00936311\n",
            "Iteration 333, loss = 0.00914888\n",
            "Iteration 334, loss = 0.00913212\n",
            "Iteration 335, loss = 0.00897741\n",
            "Iteration 336, loss = 0.00894813\n",
            "Iteration 337, loss = 0.00884804\n",
            "Iteration 338, loss = 0.00881818\n",
            "Iteration 339, loss = 0.00873374\n",
            "Iteration 340, loss = 0.00856205\n",
            "Iteration 341, loss = 0.00847303\n",
            "Iteration 342, loss = 0.00847479\n",
            "Iteration 343, loss = 0.00846175\n",
            "Iteration 344, loss = 0.00827756\n",
            "Iteration 345, loss = 0.00833051\n",
            "Iteration 346, loss = 0.00809727\n",
            "Iteration 347, loss = 0.00784853\n",
            "Iteration 348, loss = 0.00783699\n",
            "Iteration 349, loss = 0.00777432\n",
            "Iteration 350, loss = 0.00770763\n",
            "Iteration 351, loss = 0.00758327\n",
            "Iteration 352, loss = 0.00752890\n",
            "Iteration 353, loss = 0.00743683\n",
            "Iteration 354, loss = 0.00742744\n",
            "Iteration 355, loss = 0.00738049\n",
            "Iteration 356, loss = 0.00727414\n",
            "Iteration 357, loss = 0.00715012\n",
            "Iteration 358, loss = 0.00707763\n",
            "Iteration 359, loss = 0.00695981\n",
            "Iteration 360, loss = 0.00694244\n",
            "Iteration 361, loss = 0.00699715\n",
            "Iteration 362, loss = 0.00677320\n",
            "Iteration 363, loss = 0.00687060\n",
            "Iteration 364, loss = 0.00673179\n",
            "Iteration 365, loss = 0.00660445\n",
            "Iteration 366, loss = 0.00651617\n",
            "Iteration 367, loss = 0.00644676\n",
            "Iteration 368, loss = 0.00643990\n",
            "Iteration 369, loss = 0.00645257\n",
            "Iteration 370, loss = 0.00636916\n",
            "Iteration 371, loss = 0.00627704\n",
            "Iteration 372, loss = 0.00622541\n",
            "Iteration 373, loss = 0.00609683\n",
            "Iteration 374, loss = 0.00606283\n",
            "Iteration 375, loss = 0.00599776\n",
            "Iteration 376, loss = 0.00592778\n",
            "Iteration 377, loss = 0.00586786\n",
            "Iteration 378, loss = 0.00582578\n",
            "Iteration 379, loss = 0.00575287\n",
            "Iteration 380, loss = 0.00578556\n",
            "Iteration 381, loss = 0.00576489\n",
            "Iteration 382, loss = 0.00571044\n",
            "Iteration 383, loss = 0.00560446\n",
            "Iteration 384, loss = 0.00555216\n",
            "Iteration 385, loss = 0.00547082\n",
            "Iteration 386, loss = 0.00540969\n",
            "Iteration 387, loss = 0.00538925\n",
            "Iteration 388, loss = 0.00530933\n",
            "Iteration 389, loss = 0.00529639\n",
            "Iteration 390, loss = 0.00525961\n",
            "Iteration 391, loss = 0.00526263\n",
            "Iteration 392, loss = 0.00511401\n",
            "Iteration 393, loss = 0.00513206\n",
            "Iteration 394, loss = 0.00513322\n",
            "Iteration 395, loss = 0.00496605\n",
            "Iteration 396, loss = 0.00501669\n",
            "Iteration 397, loss = 0.00496943\n",
            "Iteration 398, loss = 0.00487882\n",
            "Iteration 399, loss = 0.00486032\n",
            "Iteration 400, loss = 0.00478897\n",
            "Iteration 401, loss = 0.00478154\n",
            "Iteration 402, loss = 0.00471280\n",
            "Iteration 403, loss = 0.00466067\n",
            "Iteration 404, loss = 0.00462600\n",
            "Iteration 405, loss = 0.00458218\n",
            "Iteration 406, loss = 0.00460010\n",
            "Iteration 407, loss = 0.00461684\n",
            "Iteration 408, loss = 0.00441509\n",
            "Iteration 409, loss = 0.00448224\n",
            "Iteration 410, loss = 0.00446675\n",
            "Iteration 411, loss = 0.00439180\n",
            "Iteration 412, loss = 0.00431020\n",
            "Iteration 413, loss = 0.00433872\n",
            "Iteration 414, loss = 0.00427306\n",
            "Iteration 415, loss = 0.00420913\n",
            "Iteration 416, loss = 0.00419942\n",
            "Iteration 417, loss = 0.00414382\n",
            "Iteration 418, loss = 0.00408480\n",
            "Iteration 419, loss = 0.00407142\n",
            "Iteration 420, loss = 0.00402796\n",
            "Iteration 421, loss = 0.00400286\n",
            "Iteration 422, loss = 0.00396586\n",
            "Iteration 423, loss = 0.00392772\n",
            "Iteration 424, loss = 0.00391856\n",
            "Iteration 425, loss = 0.00387783\n",
            "Iteration 426, loss = 0.00383006\n",
            "Iteration 427, loss = 0.00380175\n",
            "Iteration 428, loss = 0.00378030\n",
            "Iteration 429, loss = 0.00375421\n",
            "Iteration 430, loss = 0.00370797\n",
            "Iteration 431, loss = 0.00367355\n",
            "Iteration 432, loss = 0.00366285\n",
            "Iteration 433, loss = 0.00361552\n",
            "Iteration 434, loss = 0.00361750\n",
            "Iteration 435, loss = 0.00358501\n",
            "Iteration 436, loss = 0.00353006\n",
            "Iteration 437, loss = 0.00351164\n",
            "Iteration 438, loss = 0.00349458\n",
            "Iteration 439, loss = 0.00345123\n",
            "Iteration 440, loss = 0.00342930\n",
            "Iteration 441, loss = 0.00339644\n",
            "Iteration 442, loss = 0.00338692\n",
            "Iteration 443, loss = 0.00335221\n",
            "Iteration 444, loss = 0.00332926\n",
            "Iteration 445, loss = 0.00330692\n",
            "Iteration 446, loss = 0.00330863\n",
            "Iteration 447, loss = 0.00328274\n",
            "Iteration 448, loss = 0.00320417\n",
            "Iteration 449, loss = 0.00324460\n",
            "Iteration 450, loss = 0.00316584\n",
            "Iteration 451, loss = 0.00314596\n",
            "Iteration 452, loss = 0.00312920\n",
            "Iteration 453, loss = 0.00312403\n",
            "Iteration 454, loss = 0.00308553\n",
            "Iteration 455, loss = 0.00306479\n",
            "Iteration 456, loss = 0.00304779\n",
            "Iteration 457, loss = 0.00306342\n",
            "Iteration 458, loss = 0.00304806\n",
            "Iteration 459, loss = 0.00295860\n",
            "Iteration 460, loss = 0.00295129\n",
            "Iteration 461, loss = 0.00294679\n",
            "Iteration 462, loss = 0.00289442\n",
            "Iteration 463, loss = 0.00288065\n",
            "Iteration 464, loss = 0.00286077\n",
            "Iteration 465, loss = 0.00283540\n",
            "Iteration 466, loss = 0.00282990\n",
            "Iteration 467, loss = 0.00280264\n",
            "Iteration 468, loss = 0.00278009\n",
            "Iteration 469, loss = 0.00274457\n",
            "Iteration 470, loss = 0.00274766\n",
            "Iteration 471, loss = 0.00270850\n",
            "Iteration 472, loss = 0.00270983\n",
            "Iteration 473, loss = 0.00268834\n",
            "Iteration 474, loss = 0.00266051\n",
            "Iteration 475, loss = 0.00263474\n",
            "Iteration 476, loss = 0.00261132\n",
            "Iteration 477, loss = 0.00260659\n",
            "Iteration 478, loss = 0.00259052\n",
            "Iteration 479, loss = 0.00256904\n",
            "Iteration 480, loss = 0.00254514\n",
            "Iteration 481, loss = 0.00252362\n",
            "Iteration 482, loss = 0.00251874\n",
            "Iteration 483, loss = 0.00249343\n",
            "Iteration 484, loss = 0.00247524\n",
            "Iteration 485, loss = 0.00245951\n",
            "Iteration 486, loss = 0.00244309\n",
            "Iteration 487, loss = 0.00241692\n",
            "Iteration 488, loss = 0.00240320\n",
            "Iteration 489, loss = 0.00239238\n",
            "Iteration 490, loss = 0.00237029\n",
            "Iteration 491, loss = 0.00236831\n",
            "Iteration 492, loss = 0.00233861\n",
            "Iteration 493, loss = 0.00232262\n",
            "Iteration 494, loss = 0.00229963\n",
            "Iteration 495, loss = 0.00227981\n",
            "Iteration 496, loss = 0.00226859\n",
            "Iteration 497, loss = 0.00225547\n",
            "Iteration 498, loss = 0.00225323\n",
            "Iteration 499, loss = 0.00223771\n",
            "Iteration 500, loss = 0.00220094\n",
            "Iteration 501, loss = 0.00220349\n",
            "Iteration 502, loss = 0.00219526\n",
            "Iteration 503, loss = 0.00218212\n",
            "Iteration 504, loss = 0.00215295\n",
            "Iteration 505, loss = 0.00213459\n",
            "Iteration 506, loss = 0.00212488\n",
            "Iteration 507, loss = 0.00210476\n",
            "Iteration 508, loss = 0.00209094\n",
            "Iteration 509, loss = 0.00207692\n",
            "Iteration 510, loss = 0.00206671\n",
            "Iteration 511, loss = 0.00204384\n",
            "Iteration 512, loss = 0.00205008\n",
            "Iteration 513, loss = 0.00204657\n",
            "Iteration 514, loss = 0.00204417\n",
            "Iteration 515, loss = 0.00202698\n",
            "Iteration 516, loss = 0.00199808\n",
            "Iteration 517, loss = 0.00197241\n",
            "Iteration 518, loss = 0.00196098\n",
            "Iteration 519, loss = 0.00194898\n",
            "Iteration 520, loss = 0.00194731\n",
            "Iteration 521, loss = 0.00192609\n",
            "Iteration 522, loss = 0.00192734\n",
            "Iteration 523, loss = 0.00191163\n",
            "Iteration 524, loss = 0.00189053\n",
            "Iteration 525, loss = 0.00187284\n",
            "Iteration 526, loss = 0.00186169\n",
            "Iteration 527, loss = 0.00185692\n",
            "Iteration 528, loss = 0.00182771\n",
            "Iteration 529, loss = 0.00183699\n",
            "Iteration 530, loss = 0.00181695\n",
            "Iteration 531, loss = 0.00180719\n",
            "Iteration 532, loss = 0.00178587\n",
            "Iteration 533, loss = 0.00178340\n",
            "Iteration 534, loss = 0.00176422\n",
            "Iteration 535, loss = 0.00175867\n",
            "Iteration 536, loss = 0.00174534\n",
            "Iteration 537, loss = 0.00173517\n",
            "Iteration 538, loss = 0.00171830\n",
            "Iteration 539, loss = 0.00170687\n",
            "Iteration 540, loss = 0.00170262\n",
            "Iteration 541, loss = 0.00169359\n",
            "Iteration 542, loss = 0.00168164\n",
            "Iteration 543, loss = 0.00167084\n",
            "Iteration 544, loss = 0.00165945\n",
            "Iteration 545, loss = 0.00164704\n",
            "Iteration 546, loss = 0.00164241\n",
            "Iteration 547, loss = 0.00163034\n",
            "Iteration 548, loss = 0.00161937\n",
            "Iteration 549, loss = 0.00160880\n",
            "Iteration 550, loss = 0.00159581\n",
            "Iteration 551, loss = 0.00158460\n",
            "Iteration 552, loss = 0.00157696\n",
            "Iteration 553, loss = 0.00156861\n",
            "Iteration 554, loss = 0.00155759\n",
            "Iteration 555, loss = 0.00154778\n",
            "Iteration 556, loss = 0.00154067\n",
            "Iteration 557, loss = 0.00153385\n",
            "Iteration 558, loss = 0.00152664\n",
            "Iteration 559, loss = 0.00152469\n",
            "Iteration 560, loss = 0.00149819\n",
            "Iteration 561, loss = 0.00150194\n",
            "Iteration 562, loss = 0.00148072\n",
            "Iteration 563, loss = 0.00148459\n",
            "Iteration 564, loss = 0.00146567\n",
            "Iteration 565, loss = 0.00146890\n",
            "Iteration 566, loss = 0.00145981\n",
            "Iteration 567, loss = 0.00143875\n",
            "Iteration 568, loss = 0.00145127\n",
            "Iteration 569, loss = 0.00142144\n",
            "Iteration 570, loss = 0.00142715\n",
            "Iteration 571, loss = 0.00141006\n",
            "Iteration 572, loss = 0.00140379\n",
            "Iteration 573, loss = 0.00140334\n",
            "Iteration 574, loss = 0.00139445\n",
            "Iteration 575, loss = 0.00137628\n",
            "Iteration 576, loss = 0.00136989\n",
            "Iteration 577, loss = 0.00135690\n",
            "Iteration 578, loss = 0.00135015\n",
            "Iteration 579, loss = 0.00134909\n",
            "Iteration 580, loss = 0.00133467\n",
            "Iteration 581, loss = 0.00133689\n",
            "Iteration 582, loss = 0.00131574\n",
            "Iteration 583, loss = 0.00131239\n",
            "Iteration 584, loss = 0.00129926\n",
            "Iteration 585, loss = 0.00129749\n",
            "Iteration 586, loss = 0.00128729\n",
            "Iteration 587, loss = 0.00128020\n",
            "Iteration 588, loss = 0.00127340\n",
            "Iteration 589, loss = 0.00126698\n",
            "Iteration 590, loss = 0.00126260\n",
            "Iteration 591, loss = 0.00124925\n",
            "Iteration 592, loss = 0.00124229\n",
            "Iteration 593, loss = 0.00123922\n",
            "Iteration 594, loss = 0.00122987\n",
            "Iteration 595, loss = 0.00122197\n",
            "Iteration 596, loss = 0.00121734\n",
            "Iteration 597, loss = 0.00121073\n",
            "Iteration 598, loss = 0.00120080\n",
            "Iteration 599, loss = 0.00119963\n",
            "Iteration 600, loss = 0.00119838\n",
            "Iteration 601, loss = 0.00119334\n",
            "Iteration 602, loss = 0.00120727\n",
            "Training loss did not improve more than tol=0.000010 for 10 consecutive epochs. Stopping.\n"
          ]
        },
        {
          "output_type": "execute_result",
          "data": {
            "text/plain": [
              "0.8214285714285714"
            ]
          },
          "metadata": {},
          "execution_count": 216
        },
        {
          "output_type": "display_data",
          "data": {
            "image/png": "[encoded data removed]",
            "text/plain": [
              "<Figure size 576x396 with 1 Axes>"
            ]
          },
          "metadata": {}
        }
      ]
    },
    {
      "cell_type": "code",
      "metadata": {
        "colab": {
          "base_uri": "https://localhost:8080/"
        },
        "id": "FELN9ubNe2pB",
        "outputId": "07204d1f-e154-4267-e8f6-9f7a37ca72fe"
      },
      "source": [
        "print(classification_report(y_test, previsoes))"
      ],
      "execution_count": 217,
      "outputs": [
        {
          "output_type": "stream",
          "name": "stdout",
          "text": [
            "              precision    recall  f1-score   support\n",
            "\n",
            "           0       0.77      0.89      0.83       131\n",
            "           1       0.89      0.77      0.82       149\n",
            "\n",
            "    accuracy                           0.82       280\n",
            "   macro avg       0.83      0.83      0.82       280\n",
            "weighted avg       0.83      0.82      0.82       280\n",
            "\n"
          ]
        }
      ]
    }
  ]
}